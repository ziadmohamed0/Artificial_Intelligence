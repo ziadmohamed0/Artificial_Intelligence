








# Step_1: Import the pandas and numpy 


import pandas as pd 
import numpy as np


# Step_2: use linspace to create a Series with your own num (num: Number of samples to generate and default it is 50)
# You can easily check out the docstring of linspace on numpy method(I reccommend you to check the docstring before you work on it)
# np.linspace?


# With num=5
samples = np.linspace(1, 10, 5)
samples


# Pass the above sample to create a Series
series_1 = pd.Series(samples) 
series_1


print(series_1)


# Without num (Default it is set to 50)
sample_50 = np.linspace(1, 10)
sample_50[:10]


# Pass the above 'sample_50' to create a Series
series_1 = pd.Series(sample_50) 
print(series_1.head()) 


# Step_3: use NumPy's random function to create a Series with some random values 


# np.random.rand?


random = np.random.rand(10)
random


ser_2 = pd.Series(random) 
print(ser_2) 








# Import the Pandas: Here I've already imported in the first Exercise So no need to import it again and again 


# Step_1: Create a list of elements of your choice 


list_elements = [1, 2, 3, 4, 5, 6, 7, 8, 9, 10]


# Pass the above list to the Series constructor to create a Series


ser_3 = pd.Series(list_elements)
ser_3











# Import the pandas 


# Step_1: Create pandas Series using the data given

# Data = {"India": "New Delhi", "Japan": "Tokyo", "UK": "London"}


Data = {"India": "New Delhi", "Japan": "Tokyo", "UK": "London"}
ser_data = pd.Series(Data)
ser_data


# Step_2: Now apply 'index' and 'values' attributes on the created Series object to get the index and values of a Series


ser_data.index


ser_data.values











# Import Pandas and Numpy: Here I've already imported


# Step_1: Create a array of 10 values using NumPy's 'arange' function


values = np.arange(10)
values


# Step_2: Create a index list using capital alphabets starting with 'A'


index_values = ['A', 'B', 'C', 'D', 'E', 'F', 'G', 'H', 'I', 'J']


# Step_3: Use these data sets 'values' and 'index_values' to create a Series 


ser_explicit_index = pd.Series(values, index=index_values)
ser_explicit_index











# Let's apply 'shape' and 'size' attributes for the Series created in Exercise_04


ser_explicit_index.shape


ser_explicit_index.size











# Step_1:
# Let's Slice from 4 up to the end with step size 3 using '::' infront of the startig index here it is 4


ser_explicit_index[4::3]


# Step_2:
# To slice the values in reverse order we can use '-1' after the step index notation '::'


ser_explicit_index[::-1]


# Step_3
# Now finally slice the values starting from 0 upto the end with the step size 2 


ser_explicit_index[::2]











# Step_1:
# Check the type of the Object before conversion


print(type(ser_explicit_index))


# Step_2:
# convert the Series Oject values into a respective list of elements using 'tolist' method on the Series


# You can easily check the docstring of 'tolist' on Pandas Series object(I recommend you to check the docstring)
# pd.Series.tolist?


print(ser_explicit_index.tolist())


# Step_3:
# Chect the type of the object after conversion for confirmation


print(type(ser_explicit_index.tolist()))











# Step_1: construct the Series using data given
# data = ['25', '50', '100', '200', '300', '400']
# data_to_add = [500, 600, 700] 


data = ['25', '50', '100', '200', '300', '400']


series_before = pd.Series(data)
series_before


# Step_2: Construct the another Series using 'data_to_add' 


data_to_add=['500', '600', '700']
series_toAppend = pd.Series(data_to_add)
series_toAppend


# Step_3: Now add this Series 'Series_toAppend' to the existing Series 'series_before' using 'append' method


series_after = series_before.append(series_toAppend)
series_after











# Step_1: Recall the Series


series_after


# Step_2: First convert the created Series with the string values to numeric using 'pd.to_numeric' method which 
# converts the given Series with string values to Series with numeric values. 


# You can easily check out the docstring of 'to_numeric' method on pandas object by yourself.
# pd.to_numeric?


new_series = pd.to_numeric(series_after)
new_series


# Step_3: Apply the condition to the numeric Series created just now using indexing method inside the '[]'


new_sorted = new_series[new_series >= 100]
new_sorted











# Step_1: Create a DataFrame object using the data provided.
"""
exam_data  = {'name': ['Arun', 'Rama', 'Kantharaj', 'James', 'Emily', 'Michael', 
                       'Matthew', 'Laura', 'Kevin', 'Jonas'], 
              'score': [12, 10, 17, np.nan, 9, 30, 15, np.nan, 8, 19], 
              'attempts': [1, 3, 2, 3, 2, 3, 1, 1, 2, 1], 
              'qualify': ['yes', 'no', 'yes', 'no', 'no', 'yes', 'yes', 'no', 'no', 'yes']} 
              
labels = ['a', 'b', 'c', 'd', 'e', 'f', 'g', 'h', 'i', 'j'] 
"""


exam_data  = {'name': ['Arun', 'Rama', 'Kantharaj', 'James', 'Emily', 'Michael', 
                       'Matthew', 'Laura', 'Kevin', 'Jonas'], 
              'score': [12, 10, 17, np.nan, 9, 30, 15, np.nan, 8, 19], 
              'attempts': [1, 3, 2, 3, 2, 3, 1, 1, 2, 1], 
              'qualify': ['yes', 'no', 'yes', 'no', 'no', 'yes', 'yes', 'no', 'no', 'yes']} 
              
labels = ['a', 'b', 'c', 'd', 'e', 'f', 'g', 'h', 'i', 'j'] 


exam_df = pd.DataFrame(exam_data , index=labels)
exam_df


# Step_2: Display the basic information of the DataFrame using 'info' method 


exam_df.info()








# Step_1: Use the loc method to select the names who scores > 12


exam_df.loc[exam_df['score'] > 12]


# Step_2: Use the 'notnull' and 'isnull' methods to separate the names with and without any score


exam_df[exam_df['score'].notnull()]


exam_df[exam_df['score'].isnull()]








# Step_1: Use the indexing method with loc to select the names who qualify the test. Use '==' symbol to select with the particular condition


exam_df


exam_df.loc[exam_df['qualify'] == 'yes']


# Step_2: Now after using the 'yes' string use 'no' string in the condition to select who didn't qualify the test


exam_df.loc[exam_df['qualify'] == 'no']








# Step_1:Filter the dataframe by selecting multiple columns without score column.
# Pass a list of column names to the indexing method within the [].


new_df = exam_df[['name', 'attempts', 'qualify']]
new_df








# Step_1: Select the 'attempts' column 


attempt_first = exam_df['attempts']
attempt_first


# Step_2: use value_counts to method to count the number of participants who did first attempt 


attempt_first.value_counts()


# We got 4 participants who did first attempt 


# Alternatvely we can also use fancy indexing with loc and len method to to count the number of participants who did first attempt 


len(exam_df.loc[exam_df['attempts'] == 1])





# Step_1: separate the column using indexing method


score = exam_df['score']
score


# Step_2 use the max() function to find the top score on the separated column


score.max()




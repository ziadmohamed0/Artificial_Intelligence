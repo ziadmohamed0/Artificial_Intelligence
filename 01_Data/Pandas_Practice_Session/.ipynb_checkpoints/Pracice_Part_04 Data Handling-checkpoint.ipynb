{
 "cells": [
  {
   "cell_type": "markdown",
   "metadata": {},
   "source": [
    "# Pracice_Part_04: Data Handling"
   ]
  },
  {
   "cell_type": "code",
   "execution_count": null,
   "metadata": {},
   "outputs": [],
   "source": []
  },
  {
   "cell_type": "markdown",
   "metadata": {},
   "source": [
    "#### Exercise_01\n",
    "For the titanic data set provided:\n",
    "(You can download the original titanic data set available at the below link:\n",
    "[Original_Titanic.csv](https://github.com/alexisperrier/packt-aml/tree/master/ch4) )\n",
    "\n",
    "1. Read the data using pandas read_csv method and count the number of rows and columns\n",
    "2. Display the column names using column attribute and convert the array of columns to list\n",
    "3. Read the first and last 10 rows using default file displaying methods\n",
    "4. Get the information about the data and count the total number of missing values in each column"
   ]
  },
  {
   "cell_type": "code",
   "execution_count": null,
   "metadata": {},
   "outputs": [],
   "source": []
  },
  {
   "cell_type": "markdown",
   "metadata": {},
   "source": [
    "#### Exercise_02\n",
    "For the data read in Exercise_01:\n",
    "1. Describe the data using pandas usual method and guess the percentage of survived with age\n",
    "2. Display the data with respect to sex, and count the number of male and female passangers in the ship\n",
    "3. Find the total number of passengers whose age is greater than and or equal to 50, and also less than 50\n",
    "4. Count the total number of passengers who survived in the risk, and the total male and female passengers survived\n",
    "5. Export the data into a modified1_titanic csv file by removing the columns ['name','parch','ticket', 'cabin', 'boat','body', 'home.dest']"
   ]
  },
  {
   "cell_type": "code",
   "execution_count": null,
   "metadata": {},
   "outputs": [],
   "source": []
  },
  {
   "cell_type": "markdown",
   "metadata": {},
   "source": [
    "#### Exercise_03\n",
    "For the nba data in present in data folder:(You can download the nba data set available at the below link: [nba.csv](https://media.geeksforgeeks.org/wp-content/uploads/nba.csv) )\n",
    "1. Read the file using Python's csv module and convert it into a iterable DataFrame object\n",
    "2. Read the data in the first column of the DataFrame object using Python's way of reading the iterable object"
   ]
  },
  {
   "cell_type": "code",
   "execution_count": null,
   "metadata": {},
   "outputs": [],
   "source": []
  }
 ],
 "metadata": {
  "kernelspec": {
   "display_name": "Python 3",
   "language": "python",
   "name": "python3"
  },
  "language_info": {
   "codemirror_mode": {
    "name": "ipython",
    "version": 3
   },
   "file_extension": ".py",
   "mimetype": "text/x-python",
   "name": "python",
   "nbconvert_exporter": "python",
   "pygments_lexer": "ipython3",
   "version": "3.7.4"
  }
 },
 "nbformat": 4,
 "nbformat_minor": 2
}

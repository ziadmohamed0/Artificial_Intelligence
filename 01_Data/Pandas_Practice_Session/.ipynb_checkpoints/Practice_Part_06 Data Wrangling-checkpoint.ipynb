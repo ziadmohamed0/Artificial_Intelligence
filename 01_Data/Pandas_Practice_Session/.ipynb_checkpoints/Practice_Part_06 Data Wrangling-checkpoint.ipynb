{
 "cells": [
  {
   "cell_type": "markdown",
   "metadata": {},
   "source": [
    "# Practice_Part_06: Data Wrangling"
   ]
  },
  {
   "cell_type": "code",
   "execution_count": null,
   "metadata": {},
   "outputs": [],
   "source": []
  },
  {
   "cell_type": "markdown",
   "metadata": {},
   "source": [
    "#### Exercise_01\n",
    "For the titanic data set in 'data/titanic':\n",
    "1. Set the MultiIndex for the data with the columns 'sex' and 'name'\n",
    "2. Extract the columns ['sex', 'name', 'survived', 'pclass'] as two separate data sets and combine them using join method\n",
    "3. Concat the two data sets given below with the lavel names as 'data1' and 'data2'\n",
    "4. Stack the titanic data on the columns 'sex' and 'name' and observe how the data looks"
   ]
  },
  {
   "cell_type": "code",
   "execution_count": null,
   "metadata": {},
   "outputs": [],
   "source": []
  }
 ],
 "metadata": {
  "kernelspec": {
   "display_name": "Python 3",
   "language": "python",
   "name": "python3"
  },
  "language_info": {
   "codemirror_mode": {
    "name": "ipython",
    "version": 3
   },
   "file_extension": ".py",
   "mimetype": "text/x-python",
   "name": "python",
   "nbconvert_exporter": "python",
   "pygments_lexer": "ipython3",
   "version": "3.7.4"
  }
 },
 "nbformat": 4,
 "nbformat_minor": 2
}

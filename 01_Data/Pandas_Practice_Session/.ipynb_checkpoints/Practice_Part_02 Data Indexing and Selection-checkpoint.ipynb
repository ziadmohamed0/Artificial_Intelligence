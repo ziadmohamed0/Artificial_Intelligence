{
 "cells": [
  {
   "cell_type": "markdown",
   "metadata": {},
   "source": [
    "# Practice_Part_02:  Data Indexing and Selection"
   ]
  },
  {
   "cell_type": "code",
   "execution_count": null,
   "metadata": {},
   "outputs": [],
   "source": []
  },
  {
   "cell_type": "markdown",
   "metadata": {},
   "source": [
    "#### Exercise_01\n",
    "1. For the data set given below construct the DataFrame object\n",
    "2. Get the first four rows of a DataFrame using indexing method"
   ]
  },
  {
   "cell_type": "code",
   "execution_count": null,
   "metadata": {},
   "outputs": [],
   "source": [
    "exam_data  = {'name': ['Anjum', 'Anali', 'Souria', 'Rockea', 'Imani', 'Mouliya', 'Julie', 'Rana', 'Kavin', 'Bosia'], \n",
    "              'score': [15.5, 9, 16.5, np.nan, 9, 30, 17.5, np.nan, 8, 20], \n",
    "              'attempts': [1, 3, 2, 3, 2, 3, 1, 1, 2, 1], \n",
    "              'qualify': ['yes', 'no', 'yes', 'no', 'no', 'yes', 'yes', 'no', 'no', 'yes']} \n",
    "labels = ['A', 'B', 'C', 'D', 'E', 'F', 'G', 'H', 'I', 'J']"
   ]
  },
  {
   "cell_type": "code",
   "execution_count": null,
   "metadata": {},
   "outputs": [],
   "source": []
  },
  {
   "cell_type": "markdown",
   "metadata": {},
   "source": [
    "#### Exercise_02\n",
    "For the DataFrame created in Exercise_01;\n",
    "1. Select the columns 'score' and 'attempts' in rows 1, 3, 5, 7\n",
    "2. Count the number of rows and columns without shape attribute\n",
    "3. Select the rows where the score is between 16 and 20\n",
    "4. select the rows where number of attempts in the examination is less than 2 and score greater than 16 "
   ]
  },
  {
   "cell_type": "code",
   "execution_count": null,
   "metadata": {},
   "outputs": [],
   "source": []
  },
  {
   "cell_type": "markdown",
   "metadata": {},
   "source": [
    "#### Exercise_03\n",
    "For the DataFrame created in Exercise_01;\n",
    "1. Change the score of rows 'C' and 'I' to 16 \n",
    "2. Calculate the sum of the examination attempts by the students\n",
    "3. Add new row with the details name : ‘Rupali’, score: 16, attempts: 2, qualify: ‘yes’, label: ‘L’. After adding the new row display it and remove it to maintain the original DataFrame.\n",
    "4. Remove the last 4 rows and save it as a new DataFrame.         \n",
    "                    "
   ]
  },
  {
   "cell_type": "code",
   "execution_count": null,
   "metadata": {},
   "outputs": [],
   "source": []
  },
  {
   "cell_type": "code",
   "execution_count": null,
   "metadata": {},
   "outputs": [],
   "source": []
  }
 ],
 "metadata": {
  "kernelspec": {
   "display_name": "Python 3",
   "language": "python",
   "name": "python3"
  },
  "language_info": {
   "codemirror_mode": {
    "name": "ipython",
    "version": 3
   },
   "file_extension": ".py",
   "mimetype": "text/x-python",
   "name": "python",
   "nbconvert_exporter": "python",
   "pygments_lexer": "ipython3",
   "version": "3.7.4"
  }
 },
 "nbformat": 4,
 "nbformat_minor": 2
}

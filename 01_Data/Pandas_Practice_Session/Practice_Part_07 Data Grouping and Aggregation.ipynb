{
 "cells": [
  {
   "cell_type": "markdown",
   "metadata": {},
   "source": [
    "# Practice_Part_07: Data Grouping and Aggregation"
   ]
  },
  {
   "cell_type": "code",
   "execution_count": null,
   "metadata": {},
   "outputs": [],
   "source": []
  },
  {
   "cell_type": "markdown",
   "metadata": {},
   "source": [
    "#### Exercise_01\n",
    "For the titanic data present in 'data/titanic':\n",
    "1. Group the titanic data based on 'sex' column and find the mean age of the male and female passengers\n",
    "2. Use the indexing method to find the mean age istead of using the groupby method\n",
    "3. Group the data based on 'sex' column, and find the number of male and female passengers survived\n",
    "4. Count the number of passengers survived and not-survived based on the gender, and cross check the result\n",
    "5. Group the data based on the column 'sex' and iterate over the key and data "
   ]
  },
  {
   "cell_type": "code",
   "execution_count": null,
   "metadata": {},
   "outputs": [],
   "source": []
  },
  {
   "cell_type": "markdown",
   "metadata": {},
   "source": [
    "#### Exercise_02\n",
    "1. Group the titanic data along the column, and iterate over the key and data \n",
    "2. Group the titanic data based on ['pclass', 'survived', 'sex'] and count the number of passengers survived on each type of 'pclass'\n",
    "3. Use the 'survived' data as the list of values to find the total number of passengers survived using groupby method\n",
    "4. Group the titanic data based on ['sex', 'name'] and find the total number of people survived\n",
    "5. Find the most used type of 'embarked' by the passengers\n",
    "6. Find the maximum age and the maximum pclass type\n",
    "7. Find the top 'cabins' in the titanic ship using describe method on the column 'cabin'"
   ]
  },
  {
   "cell_type": "code",
   "execution_count": null,
   "metadata": {},
   "outputs": [],
   "source": []
  }
 ],
 "metadata": {
  "kernelspec": {
   "display_name": "Python 3",
   "language": "python",
   "name": "python3"
  },
  "language_info": {
   "codemirror_mode": {
    "name": "ipython",
    "version": 3
   },
   "file_extension": ".py",
   "mimetype": "text/x-python",
   "name": "python",
   "nbconvert_exporter": "python",
   "pygments_lexer": "ipython3",
   "version": "3.7.4"
  }
 },
 "nbformat": 4,
 "nbformat_minor": 2
}

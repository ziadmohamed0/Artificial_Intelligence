{
 "cells": [
  {
   "cell_type": "markdown",
   "metadata": {},
   "source": [
    "# Practice_Part_05: Data Cleaning And Preparation"
   ]
  },
  {
   "cell_type": "code",
   "execution_count": null,
   "metadata": {},
   "outputs": [],
   "source": []
  },
  {
   "cell_type": "markdown",
   "metadata": {},
   "source": [
    "#### Exercise_01\n",
    "For the titanic data in the directory 'data/titanic':\n",
    "1. Display the data with 'name' column as the index\n",
    "2. Count the number of null and non-null values in the column 'body' using 'isnull' and 'notnull' methods\n",
    "3. Drop the rows and columns which are having all the null values\n",
    "4. Replace all the null values of titanic data with '0'"
   ]
  },
  {
   "cell_type": "code",
   "execution_count": null,
   "metadata": {},
   "outputs": [],
   "source": []
  },
  {
   "cell_type": "markdown",
   "metadata": {},
   "source": [
    "#### Exercise_02\n",
    "1. Count the number of rows which are duplicated and display them.\n",
    "2. Drop the duplicated rows from the titanic data\n",
    "3. Count the number of 'tickets' with repeated number and display them\n",
    "4. Convert the 'sex' column names 'male' and 'female' to a title case\n",
    "5. Replace the 'male' and 'female' names with the title case 'Male' and 'Female'\n",
    "6. Rename the columns of titanin data to a tiltle case\n",
    "7. Find the number of passangers with different age groups, and rename the age groups with different names\n",
    "8. Count the number of passengers with age greater than 50\n",
    "9. Use the dummy variable for the 'survived' data of titanic with the prefix 'Survived'"
   ]
  },
  {
   "cell_type": "code",
   "execution_count": null,
   "metadata": {},
   "outputs": [],
   "source": []
  }
 ],
 "metadata": {
  "kernelspec": {
   "display_name": "Python 3",
   "language": "python",
   "name": "python3"
  },
  "language_info": {
   "codemirror_mode": {
    "name": "ipython",
    "version": 3
   },
   "file_extension": ".py",
   "mimetype": "text/x-python",
   "name": "python",
   "nbconvert_exporter": "python",
   "pygments_lexer": "ipython3",
   "version": "3.7.4"
  }
 },
 "nbformat": 4,
 "nbformat_minor": 2
}

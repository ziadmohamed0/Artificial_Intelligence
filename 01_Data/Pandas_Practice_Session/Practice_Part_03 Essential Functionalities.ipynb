{
 "cells": [
  {
   "cell_type": "markdown",
   "metadata": {},
   "source": [
    "# Practice_Prat_03 Essential Functionalities"
   ]
  },
  {
   "cell_type": "code",
   "execution_count": null,
   "metadata": {},
   "outputs": [],
   "source": []
  },
  {
   "cell_type": "markdown",
   "metadata": {},
   "source": [
    "#### Exercise_01\n",
    "For the DataFrame shown below:\n",
    "1. Sort the DataFrame by 'name' in descending order and then by 'attempts' in ascending order.\n",
    "2. Drop the 'attempts' column from the DataFrame.\n",
    "3. Reindex the columns as 'name', 'attempts', 'score' and 'qualify'\n",
    "4. Reindex the row labels as 'A', 'C', 'B', 'E', 'D', ... 'J'"
   ]
  },
  {
   "cell_type": "code",
   "execution_count": 4,
   "metadata": {},
   "outputs": [],
   "source": [
    "import pandas as pd\n",
    "import numpy as np"
   ]
  },
  {
   "cell_type": "code",
   "execution_count": 2,
   "metadata": {},
   "outputs": [],
   "source": [
    "exam_data  = {'name': ['Anjum', 'Anali', 'Souria', 'Rockea', 'Imani', 'Mouliya', 'Julie', 'Rana', 'Kavin', 'Bosia'], \n",
    "              'score': [15.5, 9, 16.5, np.nan, 9, 30, 17.5, np.nan, 8, 20], \n",
    "              'attempts': [1, 3, 2, 3, 2, 3, 1, 1, 2, 1], \n",
    "              'qualify': ['yes', 'no', 'yes', 'no', 'no', 'yes', 'yes', 'no', 'no', 'yes']} \n",
    "labels = ['A', 'B', 'C', 'D', 'E', 'F', 'G', 'H', 'I', 'J']"
   ]
  },
  {
   "cell_type": "code",
   "execution_count": 3,
   "metadata": {},
   "outputs": [
    {
     "name": "stdout",
     "output_type": "stream",
     "text": [
      "      name  score  attempts qualify\n",
      "A    Anjum   15.5         1     yes\n",
      "B    Anali    9.0         3      no\n",
      "C   Souria   16.5         2     yes\n",
      "D   Rockea    NaN         3      no\n",
      "E    Imani    9.0         2      no\n",
      "F  Mouliya   30.0         3     yes\n",
      "G    Julie   17.5         1     yes\n",
      "H     Rana    NaN         1      no\n",
      "I    Kavin    8.0         2      no\n",
      "J    Bosia   20.0         1     yes\n"
     ]
    }
   ],
   "source": [
    "data = pd.DataFrame(exam_data, index=labels)\n",
    "print(data)"
   ]
  },
  {
   "cell_type": "code",
   "execution_count": null,
   "metadata": {},
   "outputs": [],
   "source": []
  },
  {
   "cell_type": "markdown",
   "metadata": {},
   "source": [
    "#### Exercise_02\n",
    "For the DataFrame created in Exercise_01\n",
    "1. Find the maximum 'score' and the maximum 'attempts' made by the students using the \"apply\" function\n",
    "2. Find the maximum, minimum, and mean of the 'score' and 'attempts' made by the students using user defined function\n",
    "3. Sort the index labels in reverse direction\n",
    "4. Sort the DataFrame based on the values of 'score' and 'attempts' "
   ]
  },
  {
   "cell_type": "code",
   "execution_count": null,
   "metadata": {},
   "outputs": [],
   "source": []
  },
  {
   "cell_type": "markdown",
   "metadata": {},
   "source": [
    "#### Exercise_03\n",
    "For the DataFrame created in Exercise_01\n",
    "1. Rank the 'score' and 'attempts' columns without converting them to an integer values\n",
    "2. Find the labels for which the maximum values of 'score' and the 'attempts' of the students occurs\n",
    "3. Count the total number of 'score' and the 'attempts' made by the students"
   ]
  },
  {
   "cell_type": "code",
   "execution_count": null,
   "metadata": {},
   "outputs": [],
   "source": []
  }
 ],
 "metadata": {
  "kernelspec": {
   "display_name": "Python 3",
   "language": "python",
   "name": "python3"
  },
  "language_info": {
   "codemirror_mode": {
    "name": "ipython",
    "version": 3
   },
   "file_extension": ".py",
   "mimetype": "text/x-python",
   "name": "python",
   "nbconvert_exporter": "python",
   "pygments_lexer": "ipython3",
   "version": "3.7.4"
  }
 },
 "nbformat": 4,
 "nbformat_minor": 2
}

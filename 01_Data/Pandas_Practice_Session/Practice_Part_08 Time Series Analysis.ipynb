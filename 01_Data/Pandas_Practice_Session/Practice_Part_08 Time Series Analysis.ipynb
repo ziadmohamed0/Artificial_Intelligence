{
 "cells": [
  {
   "cell_type": "markdown",
   "metadata": {},
   "source": [
    "# Practice_Part_08: Time Series Analysis"
   ]
  },
  {
   "cell_type": "code",
   "execution_count": null,
   "metadata": {},
   "outputs": [],
   "source": []
  },
  {
   "cell_type": "markdown",
   "metadata": {},
   "source": [
    "#### Exercise_01 \n",
    "For the global_superstor_2016 data prsent in 'data/global_superstore':\n",
    "1. Import the datetime module from datetime and convert the columns 'Order Date' and 'Ship Date' to the DatetimeIndex objects\n",
    "2. Check the DatetimeIndex objects converted for the null values\n",
    "3. Convert the DatetimeIndex objects to a Series objects with the names 'Order_Date' and 'Ship_Date'\n",
    "4. Join the datetime Series objects created just above with the global_superstore_2016 columns ['Row ID', 'Order ID', 'Ship Mode', 'Customer ID', 'Customer Name', 'Segment', 'Category']"
   ]
  },
  {
   "cell_type": "code",
   "execution_count": null,
   "metadata": {},
   "outputs": [],
   "source": []
  },
  {
   "cell_type": "markdown",
   "metadata": {},
   "source": [
    "#### Exercise_02\n",
    "For the data created in Exercise_01 to the data 'global_superstor_2016'\n",
    "1. Set the Series 'Order_Date' created as the index of the DataFrame 'data_modified'\n",
    "2. Check whether the DatetimeIndex of the DataFRame is unique or not\n",
    "3. Find the number of orders made in each year for the data 'global_superstore_2016'\n",
    "4. Group the 'indexed_data' on level '0' that is on the DatetimeIndex object and count the number of Orders made for any arbitrary date"
   ]
  },
  {
   "cell_type": "code",
   "execution_count": null,
   "metadata": {},
   "outputs": [],
   "source": []
  }
 ],
 "metadata": {
  "kernelspec": {
   "display_name": "Python 3",
   "language": "python",
   "name": "python3"
  },
  "language_info": {
   "codemirror_mode": {
    "name": "ipython",
    "version": 3
   },
   "file_extension": ".py",
   "mimetype": "text/x-python",
   "name": "python",
   "nbconvert_exporter": "python",
   "pygments_lexer": "ipython3",
   "version": "3.7.4"
  }
 },
 "nbformat": 4,
 "nbformat_minor": 2
}

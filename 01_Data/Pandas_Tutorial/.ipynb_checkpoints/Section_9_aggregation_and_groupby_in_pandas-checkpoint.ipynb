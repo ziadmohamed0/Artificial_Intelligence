{
 "cells": [
  {
   "cell_type": "markdown",
   "metadata": {},
   "source": [
    "# Data Grouping and Aggregation In Pandas"
   ]
  },
  {
   "cell_type": "markdown",
   "metadata": {},
   "source": [
    "## Data Grouping: 'groupby'"
   ]
  },
  {
   "cell_type": "markdown",
   "metadata": {},
   "source": [
    "#### The purpose of pivot tables for reporting and data visualization is to analyze the data based on certain grouping mechanics mthe pandas 'groupby' method will serve this purpose with high demand."
   ]
  },
  {
   "cell_type": "code",
   "execution_count": 1,
   "metadata": {},
   "outputs": [],
   "source": [
    "import pandas as pd\n",
    "import numpy as np"
   ]
  },
  {
   "cell_type": "code",
   "execution_count": 2,
   "metadata": {},
   "outputs": [],
   "source": [
    "pd.DataFrame.groupby?"
   ]
  },
  {
   "cell_type": "code",
   "execution_count": 3,
   "metadata": {},
   "outputs": [
    {
     "data": {
      "text/html": [
       "<div>\n",
       "<style scoped>\n",
       "    .dataframe tbody tr th:only-of-type {\n",
       "        vertical-align: middle;\n",
       "    }\n",
       "\n",
       "    .dataframe tbody tr th {\n",
       "        vertical-align: top;\n",
       "    }\n",
       "\n",
       "    .dataframe thead th {\n",
       "        text-align: right;\n",
       "    }\n",
       "</style>\n",
       "<table border=\"1\" class=\"dataframe\">\n",
       "  <thead>\n",
       "    <tr style=\"text-align: right;\">\n",
       "      <th></th>\n",
       "      <th>key1</th>\n",
       "      <th>key2</th>\n",
       "      <th>data1</th>\n",
       "      <th>data2</th>\n",
       "    </tr>\n",
       "  </thead>\n",
       "  <tbody>\n",
       "    <tr>\n",
       "      <td>0</td>\n",
       "      <td>a</td>\n",
       "      <td>one</td>\n",
       "      <td>10</td>\n",
       "      <td>16</td>\n",
       "    </tr>\n",
       "    <tr>\n",
       "      <td>1</td>\n",
       "      <td>a</td>\n",
       "      <td>two</td>\n",
       "      <td>11</td>\n",
       "      <td>17</td>\n",
       "    </tr>\n",
       "    <tr>\n",
       "      <td>2</td>\n",
       "      <td>b</td>\n",
       "      <td>one</td>\n",
       "      <td>12</td>\n",
       "      <td>18</td>\n",
       "    </tr>\n",
       "    <tr>\n",
       "      <td>3</td>\n",
       "      <td>b</td>\n",
       "      <td>two</td>\n",
       "      <td>13</td>\n",
       "      <td>19</td>\n",
       "    </tr>\n",
       "    <tr>\n",
       "      <td>4</td>\n",
       "      <td>a</td>\n",
       "      <td>one</td>\n",
       "      <td>14</td>\n",
       "      <td>20</td>\n",
       "    </tr>\n",
       "    <tr>\n",
       "      <td>5</td>\n",
       "      <td>a</td>\n",
       "      <td>one</td>\n",
       "      <td>15</td>\n",
       "      <td>21</td>\n",
       "    </tr>\n",
       "  </tbody>\n",
       "</table>\n",
       "</div>"
      ],
      "text/plain": [
       "  key1 key2  data1  data2\n",
       "0    a  one     10     16\n",
       "1    a  two     11     17\n",
       "2    b  one     12     18\n",
       "3    b  two     13     19\n",
       "4    a  one     14     20\n",
       "5    a  one     15     21"
      ]
     },
     "execution_count": 3,
     "metadata": {},
     "output_type": "execute_result"
    }
   ],
   "source": [
    "marks = pd.DataFrame({'key1' : ['a', 'a', 'b', 'b', 'a', 'a'],\n",
    "                      'key2' : ['one', 'two', 'one', 'two', 'one', 'one'],\n",
    "                     'data1' : np.arange(10, 16),\n",
    "                     'data2' : np.arange(16, 22)})\n",
    "marks"
   ]
  },
  {
   "cell_type": "code",
   "execution_count": 4,
   "metadata": {},
   "outputs": [
    {
     "data": {
      "text/plain": [
       "0    10\n",
       "1    11\n",
       "2    12\n",
       "3    13\n",
       "4    14\n",
       "5    15\n",
       "Name: data1, dtype: int32"
      ]
     },
     "execution_count": 4,
     "metadata": {},
     "output_type": "execute_result"
    }
   ],
   "source": [
    "marks['data1']"
   ]
  },
  {
   "cell_type": "code",
   "execution_count": 5,
   "metadata": {},
   "outputs": [
    {
     "data": {
      "text/plain": [
       "<pandas.core.groupby.generic.SeriesGroupBy object at 0x0000009C9653DEC8>"
      ]
     },
     "execution_count": 5,
     "metadata": {},
     "output_type": "execute_result"
    }
   ],
   "source": [
    "grouped = marks['data1'].groupby(by=marks['key1'])\n",
    "grouped"
   ]
  },
  {
   "cell_type": "code",
   "execution_count": 6,
   "metadata": {},
   "outputs": [
    {
     "data": {
      "text/plain": [
       "key1\n",
       "a    12.5\n",
       "b    12.5\n",
       "Name: data1, dtype: float64"
      ]
     },
     "execution_count": 6,
     "metadata": {},
     "output_type": "execute_result"
    }
   ],
   "source": [
    "grouped.mean()"
   ]
  },
  {
   "cell_type": "code",
   "execution_count": null,
   "metadata": {},
   "outputs": [],
   "source": [
    "print('a mean:', (10 + 11 + 14 + 15) / 4)\n",
    "print('b mean:', (12 + 13)/2)"
   ]
  },
  {
   "cell_type": "code",
   "execution_count": 7,
   "metadata": {},
   "outputs": [
    {
     "data": {
      "text/plain": [
       "key1\n",
       "a    50\n",
       "b    25\n",
       "Name: data1, dtype: int32"
      ]
     },
     "execution_count": 7,
     "metadata": {},
     "output_type": "execute_result"
    }
   ],
   "source": [
    "grouped.sum()"
   ]
  },
  {
   "cell_type": "code",
   "execution_count": 8,
   "metadata": {},
   "outputs": [
    {
     "data": {
      "text/plain": [
       "<pandas.core.groupby.generic.SeriesGroupBy object at 0x0000009C96555A88>"
      ]
     },
     "execution_count": 8,
     "metadata": {},
     "output_type": "execute_result"
    }
   ],
   "source": [
    "group_tk = marks['data1'].groupby(by=[marks['key1'], marks['key2']])\n",
    "group_tk"
   ]
  },
  {
   "cell_type": "code",
   "execution_count": 9,
   "metadata": {},
   "outputs": [
    {
     "name": "stdout",
     "output_type": "stream",
     "text": [
      "  key1 key2  data1  data2\n",
      "0    a  one     10     16\n",
      "1    a  two     11     17\n",
      "2    b  one     12     18\n",
      "3    b  two     13     19\n",
      "4    a  one     14     20\n",
      "5    a  one     15     21\n",
      "\n",
      "result: key1  key2\n",
      "a     one     13\n",
      "      two     11\n",
      "b     one     12\n",
      "      two     13\n",
      "Name: data1, dtype: int32\n"
     ]
    }
   ],
   "source": [
    "print(marks)\n",
    "print()\n",
    "print('result:', group_tk.mean())"
   ]
  },
  {
   "cell_type": "code",
   "execution_count": null,
   "metadata": {},
   "outputs": [],
   "source": [
    "print((10 + 14 +15)/3)"
   ]
  },
  {
   "cell_type": "code",
   "execution_count": 10,
   "metadata": {},
   "outputs": [
    {
     "data": {
      "text/html": [
       "<div>\n",
       "<style scoped>\n",
       "    .dataframe tbody tr th:only-of-type {\n",
       "        vertical-align: middle;\n",
       "    }\n",
       "\n",
       "    .dataframe tbody tr th {\n",
       "        vertical-align: top;\n",
       "    }\n",
       "\n",
       "    .dataframe thead th {\n",
       "        text-align: right;\n",
       "    }\n",
       "</style>\n",
       "<table border=\"1\" class=\"dataframe\">\n",
       "  <thead>\n",
       "    <tr style=\"text-align: right;\">\n",
       "      <th>key2</th>\n",
       "      <th>one</th>\n",
       "      <th>two</th>\n",
       "    </tr>\n",
       "    <tr>\n",
       "      <th>key1</th>\n",
       "      <th></th>\n",
       "      <th></th>\n",
       "    </tr>\n",
       "  </thead>\n",
       "  <tbody>\n",
       "    <tr>\n",
       "      <td>a</td>\n",
       "      <td>13</td>\n",
       "      <td>11</td>\n",
       "    </tr>\n",
       "    <tr>\n",
       "      <td>b</td>\n",
       "      <td>12</td>\n",
       "      <td>13</td>\n",
       "    </tr>\n",
       "  </tbody>\n",
       "</table>\n",
       "</div>"
      ],
      "text/plain": [
       "key2  one  two\n",
       "key1          \n",
       "a      13   11\n",
       "b      12   13"
      ]
     },
     "execution_count": 10,
     "metadata": {},
     "output_type": "execute_result"
    }
   ],
   "source": [
    "group_tk.mean().unstack()"
   ]
  },
  {
   "cell_type": "code",
   "execution_count": 11,
   "metadata": {},
   "outputs": [
    {
     "data": {
      "text/plain": [
       "avg   med     13\n",
       "good  good    12\n",
       "Name: data1, dtype: int32"
      ]
     },
     "execution_count": 11,
     "metadata": {},
     "output_type": "execute_result"
    }
   ],
   "source": [
    "feedb = np.array(['good', 'avg', 'good', 'avg', 'good', 'avg'])\n",
    "actual = np.array(['good', 'med', 'good', 'med', 'good', 'med'])\n",
    "mean1 = marks['data1'].groupby(by=[feedb, actual]).mean()\n",
    "mean1"
   ]
  },
  {
   "cell_type": "code",
   "execution_count": 12,
   "metadata": {},
   "outputs": [
    {
     "data": {
      "text/html": [
       "<div>\n",
       "<style scoped>\n",
       "    .dataframe tbody tr th:only-of-type {\n",
       "        vertical-align: middle;\n",
       "    }\n",
       "\n",
       "    .dataframe tbody tr th {\n",
       "        vertical-align: top;\n",
       "    }\n",
       "\n",
       "    .dataframe thead th {\n",
       "        text-align: right;\n",
       "    }\n",
       "</style>\n",
       "<table border=\"1\" class=\"dataframe\">\n",
       "  <thead>\n",
       "    <tr style=\"text-align: right;\">\n",
       "      <th></th>\n",
       "      <th>data1</th>\n",
       "      <th>data2</th>\n",
       "    </tr>\n",
       "    <tr>\n",
       "      <th>key1</th>\n",
       "      <th></th>\n",
       "      <th></th>\n",
       "    </tr>\n",
       "  </thead>\n",
       "  <tbody>\n",
       "    <tr>\n",
       "      <td>a</td>\n",
       "      <td>12.5</td>\n",
       "      <td>18.5</td>\n",
       "    </tr>\n",
       "    <tr>\n",
       "      <td>b</td>\n",
       "      <td>12.5</td>\n",
       "      <td>18.5</td>\n",
       "    </tr>\n",
       "  </tbody>\n",
       "</table>\n",
       "</div>"
      ],
      "text/plain": [
       "      data1  data2\n",
       "key1              \n",
       "a      12.5   18.5\n",
       "b      12.5   18.5"
      ]
     },
     "execution_count": 12,
     "metadata": {},
     "output_type": "execute_result"
    }
   ],
   "source": [
    "mean_df = marks.groupby(by=['key1']).mean()\n",
    "mean_df"
   ]
  },
  {
   "cell_type": "code",
   "execution_count": 13,
   "metadata": {},
   "outputs": [
    {
     "name": "stdout",
     "output_type": "stream",
     "text": [
      "  key1 key2  data1  data2\n",
      "0    a  one     10     16\n",
      "1    a  two     11     17\n",
      "2    b  one     12     18\n",
      "3    b  two     13     19\n",
      "4    a  one     14     20\n",
      "5    a  one     15     21\n",
      "\n"
     ]
    },
    {
     "data": {
      "text/plain": [
       "key1  key2\n",
       "a     one     3\n",
       "      two     1\n",
       "b     one     1\n",
       "      two     1\n",
       "dtype: int64"
      ]
     },
     "execution_count": 13,
     "metadata": {},
     "output_type": "execute_result"
    }
   ],
   "source": [
    "print(marks)\n",
    "print()\n",
    "marks.groupby(by=['key1', 'key2']).size()"
   ]
  },
  {
   "cell_type": "code",
   "execution_count": null,
   "metadata": {},
   "outputs": [],
   "source": []
  },
  {
   "cell_type": "code",
   "execution_count": null,
   "metadata": {},
   "outputs": [],
   "source": []
  },
  {
   "cell_type": "code",
   "execution_count": null,
   "metadata": {},
   "outputs": [],
   "source": []
  },
  {
   "cell_type": "code",
   "execution_count": null,
   "metadata": {},
   "outputs": [],
   "source": []
  },
  {
   "cell_type": "code",
   "execution_count": null,
   "metadata": {},
   "outputs": [],
   "source": []
  },
  {
   "cell_type": "code",
   "execution_count": null,
   "metadata": {},
   "outputs": [],
   "source": []
  },
  {
   "cell_type": "code",
   "execution_count": null,
   "metadata": {},
   "outputs": [],
   "source": []
  },
  {
   "cell_type": "code",
   "execution_count": null,
   "metadata": {},
   "outputs": [],
   "source": []
  },
  {
   "cell_type": "code",
   "execution_count": null,
   "metadata": {},
   "outputs": [],
   "source": []
  },
  {
   "cell_type": "markdown",
   "metadata": {},
   "source": [
    "#### How To Iterate Over Groups?"
   ]
  },
  {
   "cell_type": "code",
   "execution_count": 14,
   "metadata": {},
   "outputs": [
    {
     "data": {
      "text/html": [
       "<div>\n",
       "<style scoped>\n",
       "    .dataframe tbody tr th:only-of-type {\n",
       "        vertical-align: middle;\n",
       "    }\n",
       "\n",
       "    .dataframe tbody tr th {\n",
       "        vertical-align: top;\n",
       "    }\n",
       "\n",
       "    .dataframe thead th {\n",
       "        text-align: right;\n",
       "    }\n",
       "</style>\n",
       "<table border=\"1\" class=\"dataframe\">\n",
       "  <thead>\n",
       "    <tr style=\"text-align: right;\">\n",
       "      <th></th>\n",
       "      <th>key1</th>\n",
       "      <th>key2</th>\n",
       "      <th>data1</th>\n",
       "      <th>data2</th>\n",
       "    </tr>\n",
       "  </thead>\n",
       "  <tbody>\n",
       "    <tr>\n",
       "      <td>0</td>\n",
       "      <td>a</td>\n",
       "      <td>one</td>\n",
       "      <td>10</td>\n",
       "      <td>16</td>\n",
       "    </tr>\n",
       "    <tr>\n",
       "      <td>1</td>\n",
       "      <td>a</td>\n",
       "      <td>two</td>\n",
       "      <td>11</td>\n",
       "      <td>17</td>\n",
       "    </tr>\n",
       "    <tr>\n",
       "      <td>2</td>\n",
       "      <td>b</td>\n",
       "      <td>one</td>\n",
       "      <td>12</td>\n",
       "      <td>18</td>\n",
       "    </tr>\n",
       "    <tr>\n",
       "      <td>3</td>\n",
       "      <td>b</td>\n",
       "      <td>two</td>\n",
       "      <td>13</td>\n",
       "      <td>19</td>\n",
       "    </tr>\n",
       "    <tr>\n",
       "      <td>4</td>\n",
       "      <td>a</td>\n",
       "      <td>one</td>\n",
       "      <td>14</td>\n",
       "      <td>20</td>\n",
       "    </tr>\n",
       "    <tr>\n",
       "      <td>5</td>\n",
       "      <td>a</td>\n",
       "      <td>one</td>\n",
       "      <td>15</td>\n",
       "      <td>21</td>\n",
       "    </tr>\n",
       "  </tbody>\n",
       "</table>\n",
       "</div>"
      ],
      "text/plain": [
       "  key1 key2  data1  data2\n",
       "0    a  one     10     16\n",
       "1    a  two     11     17\n",
       "2    b  one     12     18\n",
       "3    b  two     13     19\n",
       "4    a  one     14     20\n",
       "5    a  one     15     21"
      ]
     },
     "execution_count": 14,
     "metadata": {},
     "output_type": "execute_result"
    }
   ],
   "source": [
    "marks"
   ]
  },
  {
   "cell_type": "code",
   "execution_count": 15,
   "metadata": {},
   "outputs": [
    {
     "data": {
      "text/plain": [
       "<pandas.core.groupby.generic.DataFrameGroupBy object at 0x0000009C96557BC8>"
      ]
     },
     "execution_count": 15,
     "metadata": {},
     "output_type": "execute_result"
    }
   ],
   "source": [
    "marks.groupby(by='key1')"
   ]
  },
  {
   "cell_type": "code",
   "execution_count": 16,
   "metadata": {},
   "outputs": [
    {
     "name": "stdout",
     "output_type": "stream",
     "text": [
      "a\n",
      "  key1 key2  data1  data2\n",
      "0    a  one     10     16\n",
      "1    a  two     11     17\n",
      "4    a  one     14     20\n",
      "5    a  one     15     21\n",
      "<class 'str'>\n",
      "<class 'pandas.core.frame.DataFrame'>\n",
      "b\n",
      "  key1 key2  data1  data2\n",
      "2    b  one     12     18\n",
      "3    b  two     13     19\n",
      "<class 'str'>\n",
      "<class 'pandas.core.frame.DataFrame'>\n"
     ]
    }
   ],
   "source": [
    "for key_name, group_name in marks.groupby(by='key1'):\n",
    "    print(key_name)\n",
    "    print(group_name)\n",
    "    print(type(key_name))\n",
    "    print(type(group_name))"
   ]
  },
  {
   "cell_type": "code",
   "execution_count": 17,
   "metadata": {},
   "outputs": [
    {
     "name": "stdout",
     "output_type": "stream",
     "text": [
      "a one\n",
      "  key1 key2  data1  data2\n",
      "0    a  one     10     16\n",
      "4    a  one     14     20\n",
      "5    a  one     15     21\n",
      "a two\n",
      "  key1 key2  data1  data2\n",
      "1    a  two     11     17\n",
      "b one\n",
      "  key1 key2  data1  data2\n",
      "2    b  one     12     18\n",
      "b two\n",
      "  key1 key2  data1  data2\n",
      "3    b  two     13     19\n"
     ]
    }
   ],
   "source": [
    "for (k1_name, k2_name), group_name in marks.groupby(by=['key1', 'key2']):\n",
    "    print(k1_name, k2_name)\n",
    "    print(group_name)"
   ]
  },
  {
   "cell_type": "code",
   "execution_count": 18,
   "metadata": {},
   "outputs": [
    {
     "name": "stdout",
     "output_type": "stream",
     "text": [
      "10 16\n",
      "  key1 key2  data1  data2\n",
      "0    a  one     10     16\n",
      "11 17\n",
      "  key1 key2  data1  data2\n",
      "1    a  two     11     17\n",
      "12 18\n",
      "  key1 key2  data1  data2\n",
      "2    b  one     12     18\n",
      "13 19\n",
      "  key1 key2  data1  data2\n",
      "3    b  two     13     19\n",
      "14 20\n",
      "  key1 key2  data1  data2\n",
      "4    a  one     14     20\n",
      "15 21\n",
      "  key1 key2  data1  data2\n",
      "5    a  one     15     21\n"
     ]
    }
   ],
   "source": [
    "for (k1_name, k2_name), group_name in marks.groupby(by=['data1', 'data2']):\n",
    "    print(k1_name, k2_name)\n",
    "    print(group_name)"
   ]
  },
  {
   "cell_type": "code",
   "execution_count": 19,
   "metadata": {},
   "outputs": [
    {
     "data": {
      "text/plain": [
       "key1     object\n",
       "key2     object\n",
       "data1     int32\n",
       "data2     int32\n",
       "dtype: object"
      ]
     },
     "execution_count": 19,
     "metadata": {},
     "output_type": "execute_result"
    }
   ],
   "source": [
    "marks.dtypes"
   ]
  },
  {
   "cell_type": "code",
   "execution_count": 20,
   "metadata": {},
   "outputs": [
    {
     "name": "stdout",
     "output_type": "stream",
     "text": [
      "int32\n",
      "   data1  data2\n",
      "0     10     16\n",
      "1     11     17\n",
      "2     12     18\n",
      "3     13     19\n",
      "4     14     20\n",
      "5     15     21\n",
      "object\n",
      "  key1 key2\n",
      "0    a  one\n",
      "1    a  two\n",
      "2    b  one\n",
      "3    b  two\n",
      "4    a  one\n",
      "5    a  one\n"
     ]
    }
   ],
   "source": [
    "grouped = marks.groupby(marks.dtypes, axis=1)\n",
    "for datatype, group in grouped:\n",
    "    print(datatype)\n",
    "    print(group)"
   ]
  },
  {
   "cell_type": "code",
   "execution_count": null,
   "metadata": {},
   "outputs": [],
   "source": []
  },
  {
   "cell_type": "code",
   "execution_count": null,
   "metadata": {},
   "outputs": [],
   "source": []
  },
  {
   "cell_type": "code",
   "execution_count": null,
   "metadata": {},
   "outputs": [],
   "source": []
  },
  {
   "cell_type": "code",
   "execution_count": null,
   "metadata": {},
   "outputs": [],
   "source": []
  },
  {
   "cell_type": "code",
   "execution_count": null,
   "metadata": {},
   "outputs": [],
   "source": []
  },
  {
   "cell_type": "code",
   "execution_count": null,
   "metadata": {},
   "outputs": [],
   "source": []
  },
  {
   "cell_type": "code",
   "execution_count": null,
   "metadata": {},
   "outputs": [],
   "source": []
  },
  {
   "cell_type": "code",
   "execution_count": null,
   "metadata": {},
   "outputs": [],
   "source": []
  },
  {
   "cell_type": "code",
   "execution_count": null,
   "metadata": {},
   "outputs": [],
   "source": []
  },
  {
   "cell_type": "markdown",
   "metadata": {},
   "source": [
    "#### Column Selection For Aggregation via 'groupby'"
   ]
  },
  {
   "cell_type": "code",
   "execution_count": 21,
   "metadata": {},
   "outputs": [
    {
     "name": "stdout",
     "output_type": "stream",
     "text": [
      "0    10\n",
      "1    11\n",
      "2    12\n",
      "3    13\n",
      "4    14\n",
      "5    15\n",
      "Name: data1, dtype: int32\n",
      "   data1  data2\n",
      "0     10     16\n",
      "1     11     17\n",
      "2     12     18\n",
      "3     13     19\n",
      "4     14     20\n",
      "5     15     21\n"
     ]
    }
   ],
   "source": [
    "print(marks['data1']); print(marks[['data1', 'data2']]) \n"
   ]
  },
  {
   "cell_type": "code",
   "execution_count": 22,
   "metadata": {},
   "outputs": [
    {
     "data": {
      "text/plain": [
       "<pandas.core.groupby.generic.DataFrameGroupBy object at 0x0000009C9588F748>"
      ]
     },
     "execution_count": 22,
     "metadata": {},
     "output_type": "execute_result"
    }
   ],
   "source": [
    "sk_g = marks['data1'].groupby(by=marks['key1'])\n",
    "dk_g = marks[['data1', 'data2']].groupby(by=marks['key2'])\n",
    "sk_g\n",
    "dk_g"
   ]
  },
  {
   "cell_type": "code",
   "execution_count": null,
   "metadata": {},
   "outputs": [],
   "source": [
    "print(sk_g.sum())\n",
    "print(dk_g.sum())"
   ]
  },
  {
   "cell_type": "code",
   "execution_count": 23,
   "metadata": {},
   "outputs": [
    {
     "name": "stdout",
     "output_type": "stream",
     "text": [
      "key1\n",
      "a    50\n",
      "b    25\n",
      "Name: data1, dtype: int32\n",
      "      data1  data2\n",
      "key2              \n",
      "one      51     75\n",
      "two      24     36\n"
     ]
    }
   ],
   "source": [
    "sk_g = marks.groupby(by='key1')['data1'] \n",
    "dk_g = marks.groupby(by='key2')[['data1', 'data2']]   \n",
    "print(sk_g.sum())\n",
    "print(dk_g.sum())"
   ]
  },
  {
   "cell_type": "code",
   "execution_count": null,
   "metadata": {},
   "outputs": [],
   "source": []
  },
  {
   "cell_type": "code",
   "execution_count": null,
   "metadata": {},
   "outputs": [],
   "source": []
  },
  {
   "cell_type": "code",
   "execution_count": null,
   "metadata": {},
   "outputs": [],
   "source": []
  },
  {
   "cell_type": "code",
   "execution_count": null,
   "metadata": {},
   "outputs": [],
   "source": []
  },
  {
   "cell_type": "code",
   "execution_count": null,
   "metadata": {},
   "outputs": [],
   "source": []
  },
  {
   "cell_type": "code",
   "execution_count": null,
   "metadata": {},
   "outputs": [],
   "source": []
  },
  {
   "cell_type": "code",
   "execution_count": null,
   "metadata": {},
   "outputs": [],
   "source": []
  },
  {
   "cell_type": "code",
   "execution_count": null,
   "metadata": {},
   "outputs": [],
   "source": []
  },
  {
   "cell_type": "code",
   "execution_count": null,
   "metadata": {},
   "outputs": [],
   "source": []
  },
  {
   "cell_type": "markdown",
   "metadata": {},
   "source": [
    "#### How To Group With Dictionaries and Series?"
   ]
  },
  {
   "cell_type": "code",
   "execution_count": 24,
   "metadata": {},
   "outputs": [
    {
     "data": {
      "text/html": [
       "<div>\n",
       "<style scoped>\n",
       "    .dataframe tbody tr th:only-of-type {\n",
       "        vertical-align: middle;\n",
       "    }\n",
       "\n",
       "    .dataframe tbody tr th {\n",
       "        vertical-align: top;\n",
       "    }\n",
       "\n",
       "    .dataframe thead th {\n",
       "        text-align: right;\n",
       "    }\n",
       "</style>\n",
       "<table border=\"1\" class=\"dataframe\">\n",
       "  <thead>\n",
       "    <tr style=\"text-align: right;\">\n",
       "      <th></th>\n",
       "      <th>a</th>\n",
       "      <th>b</th>\n",
       "      <th>c</th>\n",
       "      <th>d</th>\n",
       "      <th>e</th>\n",
       "    </tr>\n",
       "  </thead>\n",
       "  <tbody>\n",
       "    <tr>\n",
       "      <td>one</td>\n",
       "      <td>0.305572</td>\n",
       "      <td>-0.476113</td>\n",
       "      <td>1.842914</td>\n",
       "      <td>-0.592494</td>\n",
       "      <td>-0.907171</td>\n",
       "    </tr>\n",
       "    <tr>\n",
       "      <td>two</td>\n",
       "      <td>0.661533</td>\n",
       "      <td>-0.612415</td>\n",
       "      <td>0.807240</td>\n",
       "      <td>-0.232410</td>\n",
       "      <td>-0.108603</td>\n",
       "    </tr>\n",
       "    <tr>\n",
       "      <td>three</td>\n",
       "      <td>0.543250</td>\n",
       "      <td>-0.435867</td>\n",
       "      <td>0.944511</td>\n",
       "      <td>-1.449916</td>\n",
       "      <td>-1.729965</td>\n",
       "    </tr>\n",
       "    <tr>\n",
       "      <td>four</td>\n",
       "      <td>0.204364</td>\n",
       "      <td>1.385551</td>\n",
       "      <td>1.143722</td>\n",
       "      <td>-0.420559</td>\n",
       "      <td>-1.374570</td>\n",
       "    </tr>\n",
       "  </tbody>\n",
       "</table>\n",
       "</div>"
      ],
      "text/plain": [
       "              a         b         c         d         e\n",
       "one    0.305572 -0.476113  1.842914 -0.592494 -0.907171\n",
       "two    0.661533 -0.612415  0.807240 -0.232410 -0.108603\n",
       "three  0.543250 -0.435867  0.944511 -1.449916 -1.729965\n",
       "four   0.204364  1.385551  1.143722 -0.420559 -1.374570"
      ]
     },
     "execution_count": 24,
     "metadata": {},
     "output_type": "execute_result"
    }
   ],
   "source": [
    "rmlist = pd.DataFrame(np.random.randn(4, 5),\n",
    "                       columns=['a', 'b', 'c', 'd', 'e'],\n",
    "                       index=['one', 'two', 'three', 'four'])\n",
    "rmlist"
   ]
  },
  {
   "cell_type": "code",
   "execution_count": 25,
   "metadata": {},
   "outputs": [
    {
     "data": {
      "text/plain": [
       "{'a': 'red', 'b': 'red', 'c': 'blue', 'd': 'blue', 'e': 'red', 'f': 'orange'}"
      ]
     },
     "execution_count": 25,
     "metadata": {},
     "output_type": "execute_result"
    }
   ],
   "source": [
    "dic_map = {'a': 'red', 'b': 'red', 'c': 'blue', 'd': 'blue', 'e': 'red', 'f' : 'orange'}\n",
    "dic_map"
   ]
  },
  {
   "cell_type": "code",
   "execution_count": 26,
   "metadata": {},
   "outputs": [
    {
     "data": {
      "text/plain": [
       "<pandas.core.groupby.generic.DataFrameGroupBy object at 0x0000009C96559E08>"
      ]
     },
     "execution_count": 26,
     "metadata": {},
     "output_type": "execute_result"
    }
   ],
   "source": [
    "g_column = rmlist.groupby(by=dic_map, axis=1)\n",
    "g_column"
   ]
  },
  {
   "cell_type": "code",
   "execution_count": 27,
   "metadata": {},
   "outputs": [
    {
     "data": {
      "text/html": [
       "<div>\n",
       "<style scoped>\n",
       "    .dataframe tbody tr th:only-of-type {\n",
       "        vertical-align: middle;\n",
       "    }\n",
       "\n",
       "    .dataframe tbody tr th {\n",
       "        vertical-align: top;\n",
       "    }\n",
       "\n",
       "    .dataframe thead th {\n",
       "        text-align: right;\n",
       "    }\n",
       "</style>\n",
       "<table border=\"1\" class=\"dataframe\">\n",
       "  <thead>\n",
       "    <tr style=\"text-align: right;\">\n",
       "      <th></th>\n",
       "      <th>blue</th>\n",
       "      <th>red</th>\n",
       "    </tr>\n",
       "  </thead>\n",
       "  <tbody>\n",
       "    <tr>\n",
       "      <td>one</td>\n",
       "      <td>1.250420</td>\n",
       "      <td>-1.077712</td>\n",
       "    </tr>\n",
       "    <tr>\n",
       "      <td>two</td>\n",
       "      <td>0.574831</td>\n",
       "      <td>-0.059485</td>\n",
       "    </tr>\n",
       "    <tr>\n",
       "      <td>three</td>\n",
       "      <td>-0.505405</td>\n",
       "      <td>-1.622582</td>\n",
       "    </tr>\n",
       "    <tr>\n",
       "      <td>four</td>\n",
       "      <td>0.723163</td>\n",
       "      <td>0.215345</td>\n",
       "    </tr>\n",
       "  </tbody>\n",
       "</table>\n",
       "</div>"
      ],
      "text/plain": [
       "           blue       red\n",
       "one    1.250420 -1.077712\n",
       "two    0.574831 -0.059485\n",
       "three -0.505405 -1.622582\n",
       "four   0.723163  0.215345"
      ]
     },
     "execution_count": 27,
     "metadata": {},
     "output_type": "execute_result"
    }
   ],
   "source": [
    "g_column.sum()"
   ]
  },
  {
   "cell_type": "code",
   "execution_count": 28,
   "metadata": {},
   "outputs": [],
   "source": [
    "s_map = pd.Series(dic_map)"
   ]
  },
  {
   "cell_type": "code",
   "execution_count": 29,
   "metadata": {},
   "outputs": [
    {
     "data": {
      "text/html": [
       "<div>\n",
       "<style scoped>\n",
       "    .dataframe tbody tr th:only-of-type {\n",
       "        vertical-align: middle;\n",
       "    }\n",
       "\n",
       "    .dataframe tbody tr th {\n",
       "        vertical-align: top;\n",
       "    }\n",
       "\n",
       "    .dataframe thead th {\n",
       "        text-align: right;\n",
       "    }\n",
       "</style>\n",
       "<table border=\"1\" class=\"dataframe\">\n",
       "  <thead>\n",
       "    <tr style=\"text-align: right;\">\n",
       "      <th></th>\n",
       "      <th>blue</th>\n",
       "      <th>red</th>\n",
       "    </tr>\n",
       "  </thead>\n",
       "  <tbody>\n",
       "    <tr>\n",
       "      <td>one</td>\n",
       "      <td>1.250420</td>\n",
       "      <td>-1.077712</td>\n",
       "    </tr>\n",
       "    <tr>\n",
       "      <td>two</td>\n",
       "      <td>0.574831</td>\n",
       "      <td>-0.059485</td>\n",
       "    </tr>\n",
       "    <tr>\n",
       "      <td>three</td>\n",
       "      <td>-0.505405</td>\n",
       "      <td>-1.622582</td>\n",
       "    </tr>\n",
       "    <tr>\n",
       "      <td>four</td>\n",
       "      <td>0.723163</td>\n",
       "      <td>0.215345</td>\n",
       "    </tr>\n",
       "  </tbody>\n",
       "</table>\n",
       "</div>"
      ],
      "text/plain": [
       "           blue       red\n",
       "one    1.250420 -1.077712\n",
       "two    0.574831 -0.059485\n",
       "three -0.505405 -1.622582\n",
       "four   0.723163  0.215345"
      ]
     },
     "execution_count": 29,
     "metadata": {},
     "output_type": "execute_result"
    }
   ],
   "source": [
    "g_column = rmlist.groupby(by=s_map, axis=1)\n",
    "g_column.sum()"
   ]
  },
  {
   "cell_type": "code",
   "execution_count": null,
   "metadata": {},
   "outputs": [],
   "source": []
  },
  {
   "cell_type": "code",
   "execution_count": null,
   "metadata": {},
   "outputs": [],
   "source": []
  },
  {
   "cell_type": "code",
   "execution_count": null,
   "metadata": {},
   "outputs": [],
   "source": []
  },
  {
   "cell_type": "code",
   "execution_count": null,
   "metadata": {},
   "outputs": [],
   "source": []
  },
  {
   "cell_type": "code",
   "execution_count": null,
   "metadata": {},
   "outputs": [],
   "source": []
  },
  {
   "cell_type": "code",
   "execution_count": null,
   "metadata": {},
   "outputs": [],
   "source": []
  },
  {
   "cell_type": "code",
   "execution_count": null,
   "metadata": {},
   "outputs": [],
   "source": []
  },
  {
   "cell_type": "code",
   "execution_count": null,
   "metadata": {},
   "outputs": [],
   "source": []
  },
  {
   "cell_type": "code",
   "execution_count": null,
   "metadata": {},
   "outputs": [],
   "source": []
  },
  {
   "cell_type": "markdown",
   "metadata": {},
   "source": [
    "#### How To Group With Functions?"
   ]
  },
  {
   "cell_type": "code",
   "execution_count": 30,
   "metadata": {},
   "outputs": [
    {
     "name": "stdout",
     "output_type": "stream",
     "text": [
      "              a         b         c         d         e\n",
      "one    0.305572 -0.476113  1.842914 -0.592494 -0.907171\n",
      "two    0.661533 -0.612415  0.807240 -0.232410 -0.108603\n",
      "three  0.543250 -0.435867  0.944511 -1.449916 -1.729965\n",
      "four   0.204364  1.385551  1.143722 -0.420559 -1.374570\n"
     ]
    },
    {
     "data": {
      "text/html": [
       "<div>\n",
       "<style scoped>\n",
       "    .dataframe tbody tr th:only-of-type {\n",
       "        vertical-align: middle;\n",
       "    }\n",
       "\n",
       "    .dataframe tbody tr th {\n",
       "        vertical-align: top;\n",
       "    }\n",
       "\n",
       "    .dataframe thead th {\n",
       "        text-align: right;\n",
       "    }\n",
       "</style>\n",
       "<table border=\"1\" class=\"dataframe\">\n",
       "  <thead>\n",
       "    <tr style=\"text-align: right;\">\n",
       "      <th></th>\n",
       "      <th>a</th>\n",
       "      <th>b</th>\n",
       "      <th>c</th>\n",
       "      <th>d</th>\n",
       "      <th>e</th>\n",
       "    </tr>\n",
       "  </thead>\n",
       "  <tbody>\n",
       "    <tr>\n",
       "      <td>3</td>\n",
       "      <td>0.967105</td>\n",
       "      <td>-1.088528</td>\n",
       "      <td>2.650155</td>\n",
       "      <td>-0.824904</td>\n",
       "      <td>-1.015774</td>\n",
       "    </tr>\n",
       "    <tr>\n",
       "      <td>4</td>\n",
       "      <td>0.204364</td>\n",
       "      <td>1.385551</td>\n",
       "      <td>1.143722</td>\n",
       "      <td>-0.420559</td>\n",
       "      <td>-1.374570</td>\n",
       "    </tr>\n",
       "    <tr>\n",
       "      <td>5</td>\n",
       "      <td>0.543250</td>\n",
       "      <td>-0.435867</td>\n",
       "      <td>0.944511</td>\n",
       "      <td>-1.449916</td>\n",
       "      <td>-1.729965</td>\n",
       "    </tr>\n",
       "  </tbody>\n",
       "</table>\n",
       "</div>"
      ],
      "text/plain": [
       "          a         b         c         d         e\n",
       "3  0.967105 -1.088528  2.650155 -0.824904 -1.015774\n",
       "4  0.204364  1.385551  1.143722 -0.420559 -1.374570\n",
       "5  0.543250 -0.435867  0.944511 -1.449916 -1.729965"
      ]
     },
     "execution_count": 30,
     "metadata": {},
     "output_type": "execute_result"
    }
   ],
   "source": [
    "print(rmlist)\n",
    "rmlist.groupby(len).sum()"
   ]
  },
  {
   "cell_type": "code",
   "execution_count": 31,
   "metadata": {},
   "outputs": [
    {
     "name": "stdout",
     "output_type": "stream",
     "text": [
      "              a         b         c         d         e\n",
      "one    0.305572 -0.476113  1.842914 -0.592494 -0.907171\n",
      "two    0.661533 -0.612415  0.807240 -0.232410 -0.108603\n",
      "three  0.543250 -0.435867  0.944511 -1.449916 -1.729965\n",
      "four   0.204364  1.385551  1.143722 -0.420559 -1.374570\n"
     ]
    },
    {
     "data": {
      "text/html": [
       "<div>\n",
       "<style scoped>\n",
       "    .dataframe tbody tr th:only-of-type {\n",
       "        vertical-align: middle;\n",
       "    }\n",
       "\n",
       "    .dataframe tbody tr th {\n",
       "        vertical-align: top;\n",
       "    }\n",
       "\n",
       "    .dataframe thead th {\n",
       "        text-align: right;\n",
       "    }\n",
       "</style>\n",
       "<table border=\"1\" class=\"dataframe\">\n",
       "  <thead>\n",
       "    <tr style=\"text-align: right;\">\n",
       "      <th></th>\n",
       "      <th></th>\n",
       "      <th>a</th>\n",
       "      <th>b</th>\n",
       "      <th>c</th>\n",
       "      <th>d</th>\n",
       "      <th>e</th>\n",
       "    </tr>\n",
       "  </thead>\n",
       "  <tbody>\n",
       "    <tr>\n",
       "      <td>3</td>\n",
       "      <td>one</td>\n",
       "      <td>0.967105</td>\n",
       "      <td>-1.088528</td>\n",
       "      <td>2.650155</td>\n",
       "      <td>-0.824904</td>\n",
       "      <td>-1.015774</td>\n",
       "    </tr>\n",
       "    <tr>\n",
       "      <td>4</td>\n",
       "      <td>two</td>\n",
       "      <td>0.204364</td>\n",
       "      <td>1.385551</td>\n",
       "      <td>1.143722</td>\n",
       "      <td>-0.420559</td>\n",
       "      <td>-1.374570</td>\n",
       "    </tr>\n",
       "    <tr>\n",
       "      <td>5</td>\n",
       "      <td>one</td>\n",
       "      <td>0.543250</td>\n",
       "      <td>-0.435867</td>\n",
       "      <td>0.944511</td>\n",
       "      <td>-1.449916</td>\n",
       "      <td>-1.729965</td>\n",
       "    </tr>\n",
       "  </tbody>\n",
       "</table>\n",
       "</div>"
      ],
      "text/plain": [
       "              a         b         c         d         e\n",
       "3 one  0.967105 -1.088528  2.650155 -0.824904 -1.015774\n",
       "4 two  0.204364  1.385551  1.143722 -0.420559 -1.374570\n",
       "5 one  0.543250 -0.435867  0.944511 -1.449916 -1.729965"
      ]
     },
     "execution_count": 31,
     "metadata": {},
     "output_type": "execute_result"
    }
   ],
   "source": [
    "key_list = ['one', 'one', 'one', 'two']\n",
    "print(rmlist)\n",
    "rmlist.groupby([len, key_list]).sum() "
   ]
  },
  {
   "cell_type": "code",
   "execution_count": 32,
   "metadata": {},
   "outputs": [
    {
     "name": "stdout",
     "output_type": "stream",
     "text": [
      "              a         b         c         d         e\n",
      "one    0.305572 -0.476113  1.842914 -0.592494 -0.907171\n",
      "two    0.661533 -0.612415  0.807240 -0.232410 -0.108603\n",
      "three  0.543250 -0.435867  0.944511 -1.449916 -1.729965\n",
      "four   0.204364  1.385551  1.143722 -0.420559 -1.374570\n"
     ]
    },
    {
     "data": {
      "text/html": [
       "<div>\n",
       "<style scoped>\n",
       "    .dataframe tbody tr th:only-of-type {\n",
       "        vertical-align: middle;\n",
       "    }\n",
       "\n",
       "    .dataframe tbody tr th {\n",
       "        vertical-align: top;\n",
       "    }\n",
       "\n",
       "    .dataframe thead th {\n",
       "        text-align: right;\n",
       "    }\n",
       "</style>\n",
       "<table border=\"1\" class=\"dataframe\">\n",
       "  <thead>\n",
       "    <tr style=\"text-align: right;\">\n",
       "      <th></th>\n",
       "      <th></th>\n",
       "      <th>a</th>\n",
       "      <th>b</th>\n",
       "      <th>c</th>\n",
       "      <th>d</th>\n",
       "      <th>e</th>\n",
       "    </tr>\n",
       "  </thead>\n",
       "  <tbody>\n",
       "    <tr>\n",
       "      <td rowspan=\"2\" valign=\"top\">3</td>\n",
       "      <td>one</td>\n",
       "      <td>0.305572</td>\n",
       "      <td>-0.476113</td>\n",
       "      <td>1.842914</td>\n",
       "      <td>-0.592494</td>\n",
       "      <td>-0.907171</td>\n",
       "    </tr>\n",
       "    <tr>\n",
       "      <td>two</td>\n",
       "      <td>0.661533</td>\n",
       "      <td>-0.612415</td>\n",
       "      <td>0.807240</td>\n",
       "      <td>-0.232410</td>\n",
       "      <td>-0.108603</td>\n",
       "    </tr>\n",
       "    <tr>\n",
       "      <td>4</td>\n",
       "      <td>four</td>\n",
       "      <td>0.204364</td>\n",
       "      <td>1.385551</td>\n",
       "      <td>1.143722</td>\n",
       "      <td>-0.420559</td>\n",
       "      <td>-1.374570</td>\n",
       "    </tr>\n",
       "    <tr>\n",
       "      <td>5</td>\n",
       "      <td>three</td>\n",
       "      <td>0.543250</td>\n",
       "      <td>-0.435867</td>\n",
       "      <td>0.944511</td>\n",
       "      <td>-1.449916</td>\n",
       "      <td>-1.729965</td>\n",
       "    </tr>\n",
       "  </tbody>\n",
       "</table>\n",
       "</div>"
      ],
      "text/plain": [
       "                a         b         c         d         e\n",
       "3 one    0.305572 -0.476113  1.842914 -0.592494 -0.907171\n",
       "  two    0.661533 -0.612415  0.807240 -0.232410 -0.108603\n",
       "4 four   0.204364  1.385551  1.143722 -0.420559 -1.374570\n",
       "5 three  0.543250 -0.435867  0.944511 -1.449916 -1.729965"
      ]
     },
     "execution_count": 32,
     "metadata": {},
     "output_type": "execute_result"
    }
   ],
   "source": [
    "key_list = ['one', 'two', 'three', 'four']\n",
    "print(rmlist)\n",
    "rmlist.groupby([len, key_list]).sum() "
   ]
  },
  {
   "cell_type": "markdown",
   "metadata": {},
   "source": [
    "#### How To Group by Index Level?"
   ]
  },
  {
   "cell_type": "code",
   "execution_count": 33,
   "metadata": {},
   "outputs": [
    {
     "data": {
      "text/html": [
       "<div>\n",
       "<style scoped>\n",
       "    .dataframe tbody tr th:only-of-type {\n",
       "        vertical-align: middle;\n",
       "    }\n",
       "\n",
       "    .dataframe tbody tr th {\n",
       "        vertical-align: top;\n",
       "    }\n",
       "\n",
       "    .dataframe thead tr th {\n",
       "        text-align: left;\n",
       "    }\n",
       "</style>\n",
       "<table border=\"1\" class=\"dataframe\">\n",
       "  <thead>\n",
       "    <tr>\n",
       "      <th>city</th>\n",
       "      <th colspan=\"2\" halign=\"left\">US</th>\n",
       "      <th>UK</th>\n",
       "      <th colspan=\"2\" halign=\"left\">RS</th>\n",
       "    </tr>\n",
       "    <tr>\n",
       "      <th>tenor</th>\n",
       "      <th>1</th>\n",
       "      <th>3</th>\n",
       "      <th>5</th>\n",
       "      <th>1</th>\n",
       "      <th>3</th>\n",
       "    </tr>\n",
       "  </thead>\n",
       "  <tbody>\n",
       "    <tr>\n",
       "      <td>0</td>\n",
       "      <td>0.897737</td>\n",
       "      <td>1.585403</td>\n",
       "      <td>-0.607154</td>\n",
       "      <td>0.682949</td>\n",
       "      <td>-1.498483</td>\n",
       "    </tr>\n",
       "    <tr>\n",
       "      <td>1</td>\n",
       "      <td>-0.047166</td>\n",
       "      <td>-1.265283</td>\n",
       "      <td>0.834243</td>\n",
       "      <td>1.313474</td>\n",
       "      <td>0.913843</td>\n",
       "    </tr>\n",
       "    <tr>\n",
       "      <td>2</td>\n",
       "      <td>-0.836832</td>\n",
       "      <td>1.582702</td>\n",
       "      <td>0.975525</td>\n",
       "      <td>-0.268992</td>\n",
       "      <td>-0.917399</td>\n",
       "    </tr>\n",
       "    <tr>\n",
       "      <td>3</td>\n",
       "      <td>1.285261</td>\n",
       "      <td>-0.146984</td>\n",
       "      <td>-2.526453</td>\n",
       "      <td>0.667220</td>\n",
       "      <td>0.151932</td>\n",
       "    </tr>\n",
       "  </tbody>\n",
       "</table>\n",
       "</div>"
      ],
      "text/plain": [
       "city         US                  UK        RS          \n",
       "tenor         1         3         5         1         3\n",
       "0      0.897737  1.585403 -0.607154  0.682949 -1.498483\n",
       "1     -0.047166 -1.265283  0.834243  1.313474  0.913843\n",
       "2     -0.836832  1.582702  0.975525 -0.268992 -0.917399\n",
       "3      1.285261 -0.146984 -2.526453  0.667220  0.151932"
      ]
     },
     "execution_count": 33,
     "metadata": {},
     "output_type": "execute_result"
    }
   ],
   "source": [
    "columns = pd.MultiIndex.from_arrays([['US', 'US', 'UK', 'RS', 'RS'],\n",
    "                                    [1, 3, 5, 1, 3]],\n",
    "                                    names=['city', 'tenor'])\n",
    "\n",
    "hier_df = pd.DataFrame(np.random.randn(4, 5), columns=columns)\n",
    "hier_df"
   ]
  },
  {
   "cell_type": "code",
   "execution_count": 34,
   "metadata": {},
   "outputs": [
    {
     "data": {
      "text/html": [
       "<div>\n",
       "<style scoped>\n",
       "    .dataframe tbody tr th:only-of-type {\n",
       "        vertical-align: middle;\n",
       "    }\n",
       "\n",
       "    .dataframe tbody tr th {\n",
       "        vertical-align: top;\n",
       "    }\n",
       "\n",
       "    .dataframe thead th {\n",
       "        text-align: right;\n",
       "    }\n",
       "</style>\n",
       "<table border=\"1\" class=\"dataframe\">\n",
       "  <thead>\n",
       "    <tr style=\"text-align: right;\">\n",
       "      <th>city</th>\n",
       "      <th>RS</th>\n",
       "      <th>UK</th>\n",
       "      <th>US</th>\n",
       "    </tr>\n",
       "  </thead>\n",
       "  <tbody>\n",
       "    <tr>\n",
       "      <td>0</td>\n",
       "      <td>2</td>\n",
       "      <td>1</td>\n",
       "      <td>2</td>\n",
       "    </tr>\n",
       "    <tr>\n",
       "      <td>1</td>\n",
       "      <td>2</td>\n",
       "      <td>1</td>\n",
       "      <td>2</td>\n",
       "    </tr>\n",
       "    <tr>\n",
       "      <td>2</td>\n",
       "      <td>2</td>\n",
       "      <td>1</td>\n",
       "      <td>2</td>\n",
       "    </tr>\n",
       "    <tr>\n",
       "      <td>3</td>\n",
       "      <td>2</td>\n",
       "      <td>1</td>\n",
       "      <td>2</td>\n",
       "    </tr>\n",
       "  </tbody>\n",
       "</table>\n",
       "</div>"
      ],
      "text/plain": [
       "city  RS  UK  US\n",
       "0      2   1   2\n",
       "1      2   1   2\n",
       "2      2   1   2\n",
       "3      2   1   2"
      ]
     },
     "execution_count": 34,
     "metadata": {},
     "output_type": "execute_result"
    }
   ],
   "source": [
    "hier_df.groupby(level='city', axis=1).count()"
   ]
  },
  {
   "cell_type": "code",
   "execution_count": null,
   "metadata": {},
   "outputs": [],
   "source": []
  },
  {
   "cell_type": "code",
   "execution_count": null,
   "metadata": {},
   "outputs": [],
   "source": []
  },
  {
   "cell_type": "code",
   "execution_count": null,
   "metadata": {},
   "outputs": [],
   "source": []
  },
  {
   "cell_type": "code",
   "execution_count": null,
   "metadata": {},
   "outputs": [],
   "source": []
  },
  {
   "cell_type": "code",
   "execution_count": null,
   "metadata": {},
   "outputs": [],
   "source": []
  },
  {
   "cell_type": "code",
   "execution_count": null,
   "metadata": {},
   "outputs": [],
   "source": []
  },
  {
   "cell_type": "code",
   "execution_count": null,
   "metadata": {},
   "outputs": [],
   "source": []
  },
  {
   "cell_type": "code",
   "execution_count": null,
   "metadata": {},
   "outputs": [],
   "source": []
  },
  {
   "cell_type": "code",
   "execution_count": null,
   "metadata": {},
   "outputs": [],
   "source": []
  },
  {
   "cell_type": "markdown",
   "metadata": {},
   "source": [
    "## Data Aggregation"
   ]
  },
  {
   "cell_type": "markdown",
   "metadata": {},
   "source": [
    "#### Aggregations refer to any data transformation that produces scalar values from arrays.\n",
    "#### Some common aggregation methods are\n",
    "* count \n",
    "* sum \n",
    "* mean \n",
    "* median \n",
    "* std, var \n",
    "* min, max \n",
    "* prod \n",
    "* first, last\n",
    "\n",
    "#### still you can find many methods, these are just to illustrate"
   ]
  },
  {
   "cell_type": "code",
   "execution_count": 35,
   "metadata": {},
   "outputs": [
    {
     "data": {
      "text/html": [
       "<div>\n",
       "<style scoped>\n",
       "    .dataframe tbody tr th:only-of-type {\n",
       "        vertical-align: middle;\n",
       "    }\n",
       "\n",
       "    .dataframe tbody tr th {\n",
       "        vertical-align: top;\n",
       "    }\n",
       "\n",
       "    .dataframe thead th {\n",
       "        text-align: right;\n",
       "    }\n",
       "</style>\n",
       "<table border=\"1\" class=\"dataframe\">\n",
       "  <thead>\n",
       "    <tr style=\"text-align: right;\">\n",
       "      <th></th>\n",
       "      <th>book_name</th>\n",
       "      <th>price</th>\n",
       "      <th>author</th>\n",
       "      <th>min_dis</th>\n",
       "      <th>max_dis</th>\n",
       "      <th>feedback</th>\n",
       "    </tr>\n",
       "  </thead>\n",
       "  <tbody>\n",
       "    <tr>\n",
       "      <td>0</td>\n",
       "      <td>AAA</td>\n",
       "      <td>100</td>\n",
       "      <td>Author1</td>\n",
       "      <td>0.2</td>\n",
       "      <td>0.4</td>\n",
       "      <td>good</td>\n",
       "    </tr>\n",
       "    <tr>\n",
       "      <td>1</td>\n",
       "      <td>AAB</td>\n",
       "      <td>200</td>\n",
       "      <td>Author2</td>\n",
       "      <td>0.2</td>\n",
       "      <td>0.4</td>\n",
       "      <td>average</td>\n",
       "    </tr>\n",
       "    <tr>\n",
       "      <td>2</td>\n",
       "      <td>AAC</td>\n",
       "      <td>300</td>\n",
       "      <td>Author3</td>\n",
       "      <td>0.2</td>\n",
       "      <td>0.3</td>\n",
       "      <td>good</td>\n",
       "    </tr>\n",
       "    <tr>\n",
       "      <td>3</td>\n",
       "      <td>AAD</td>\n",
       "      <td>100</td>\n",
       "      <td>Author4</td>\n",
       "      <td>0.2</td>\n",
       "      <td>0.4</td>\n",
       "      <td>good</td>\n",
       "    </tr>\n",
       "    <tr>\n",
       "      <td>4</td>\n",
       "      <td>AAE</td>\n",
       "      <td>200</td>\n",
       "      <td>Author5</td>\n",
       "      <td>0.2</td>\n",
       "      <td>0.4</td>\n",
       "      <td>average</td>\n",
       "    </tr>\n",
       "  </tbody>\n",
       "</table>\n",
       "</div>"
      ],
      "text/plain": [
       "  book_name  price   author  min_dis  max_dis feedback\n",
       "0       AAA    100  Author1      0.2      0.4     good\n",
       "1       AAB    200  Author2      0.2      0.4  average\n",
       "2       AAC    300  Author3      0.2      0.3     good\n",
       "3       AAD    100  Author4      0.2      0.4     good\n",
       "4       AAE    200  Author5      0.2      0.4  average"
      ]
     },
     "execution_count": 35,
     "metadata": {},
     "output_type": "execute_result"
    }
   ],
   "source": [
    "book = pd.read_csv(r'dataset/books_discount.csv', encoding='latin')\n",
    "book.head() "
   ]
  },
  {
   "cell_type": "code",
   "execution_count": 36,
   "metadata": {},
   "outputs": [
    {
     "name": "stdout",
     "output_type": "stream",
     "text": [
      "50\n",
      "700\n"
     ]
    }
   ],
   "source": [
    "print(book['price'].min()); print(book['price'].max())"
   ]
  },
  {
   "cell_type": "code",
   "execution_count": 37,
   "metadata": {},
   "outputs": [
    {
     "name": "stdout",
     "output_type": "stream",
     "text": [
      "0.05\n",
      "0.1\n"
     ]
    }
   ],
   "source": [
    "print(book['min_dis'].min()); print(book['max_dis'].min())"
   ]
  },
  {
   "cell_type": "code",
   "execution_count": 38,
   "metadata": {},
   "outputs": [],
   "source": [
    "grouped = book.groupby(by=['feedback', 'author'], axis=0)"
   ]
  },
  {
   "cell_type": "code",
   "execution_count": 39,
   "metadata": {},
   "outputs": [
    {
     "data": {
      "text/html": [
       "<div>\n",
       "<style scoped>\n",
       "    .dataframe tbody tr th:only-of-type {\n",
       "        vertical-align: middle;\n",
       "    }\n",
       "\n",
       "    .dataframe tbody tr th {\n",
       "        vertical-align: top;\n",
       "    }\n",
       "\n",
       "    .dataframe thead th {\n",
       "        text-align: right;\n",
       "    }\n",
       "</style>\n",
       "<table border=\"1\" class=\"dataframe\">\n",
       "  <thead>\n",
       "    <tr style=\"text-align: right;\">\n",
       "      <th></th>\n",
       "      <th></th>\n",
       "      <th>book_name</th>\n",
       "      <th>price</th>\n",
       "      <th>min_dis</th>\n",
       "      <th>max_dis</th>\n",
       "    </tr>\n",
       "    <tr>\n",
       "      <th>feedback</th>\n",
       "      <th>author</th>\n",
       "      <th></th>\n",
       "      <th></th>\n",
       "      <th></th>\n",
       "      <th></th>\n",
       "    </tr>\n",
       "  </thead>\n",
       "  <tbody>\n",
       "    <tr>\n",
       "      <td rowspan=\"2\" valign=\"top\">average</td>\n",
       "      <td>Author2</td>\n",
       "      <td>(AAS, AAB)</td>\n",
       "      <td>(500, 200)</td>\n",
       "      <td>(0.5, 0.1)</td>\n",
       "      <td>(0.55, 0.4)</td>\n",
       "    </tr>\n",
       "    <tr>\n",
       "      <td>Author5</td>\n",
       "      <td>(AAK, AAE)</td>\n",
       "      <td>(500, 200)</td>\n",
       "      <td>(0.3, 0.2)</td>\n",
       "      <td>(0.4, 0.35)</td>\n",
       "    </tr>\n",
       "    <tr>\n",
       "      <td rowspan=\"4\" valign=\"top\">good</td>\n",
       "      <td>Author1</td>\n",
       "      <td>(AAM, AAA)</td>\n",
       "      <td>(400, 50)</td>\n",
       "      <td>(0.3, 0.2)</td>\n",
       "      <td>(0.4, 0.35)</td>\n",
       "    </tr>\n",
       "    <tr>\n",
       "      <td>Author3</td>\n",
       "      <td>(AAT, AAC)</td>\n",
       "      <td>(700, 200)</td>\n",
       "      <td>(0.3, 0.05)</td>\n",
       "      <td>(0.4, 0.1)</td>\n",
       "    </tr>\n",
       "    <tr>\n",
       "      <td>Author4</td>\n",
       "      <td>(AAP, AAD)</td>\n",
       "      <td>(100, 100)</td>\n",
       "      <td>(0.3, 0.1)</td>\n",
       "      <td>(0.45, 0.3)</td>\n",
       "    </tr>\n",
       "    <tr>\n",
       "      <td>Author6</td>\n",
       "      <td>(AAL, AAL)</td>\n",
       "      <td>(300, 300)</td>\n",
       "      <td>(0.4, 0.4)</td>\n",
       "      <td>(0.5, 0.5)</td>\n",
       "    </tr>\n",
       "  </tbody>\n",
       "</table>\n",
       "</div>"
      ],
      "text/plain": [
       "                   book_name       price      min_dis      max_dis\n",
       "feedback author                                                   \n",
       "average  Author2  (AAS, AAB)  (500, 200)   (0.5, 0.1)  (0.55, 0.4)\n",
       "         Author5  (AAK, AAE)  (500, 200)   (0.3, 0.2)  (0.4, 0.35)\n",
       "good     Author1  (AAM, AAA)   (400, 50)   (0.3, 0.2)  (0.4, 0.35)\n",
       "         Author3  (AAT, AAC)  (700, 200)  (0.3, 0.05)   (0.4, 0.1)\n",
       "         Author4  (AAP, AAD)  (100, 100)   (0.3, 0.1)  (0.45, 0.3)\n",
       "         Author6  (AAL, AAL)  (300, 300)   (0.4, 0.4)   (0.5, 0.5)"
      ]
     },
     "execution_count": 39,
     "metadata": {},
     "output_type": "execute_result"
    }
   ],
   "source": [
    "def max_min(arr):\n",
    "    return arr.max(), arr.min()\n",
    "\n",
    "grouped.agg(max_min)"
   ]
  },
  {
   "cell_type": "code",
   "execution_count": 40,
   "metadata": {},
   "outputs": [
    {
     "data": {
      "text/html": [
       "<div>\n",
       "<style scoped>\n",
       "    .dataframe tbody tr th:only-of-type {\n",
       "        vertical-align: middle;\n",
       "    }\n",
       "\n",
       "    .dataframe tbody tr th {\n",
       "        vertical-align: top;\n",
       "    }\n",
       "\n",
       "    .dataframe thead tr th {\n",
       "        text-align: left;\n",
       "    }\n",
       "\n",
       "    .dataframe thead tr:last-of-type th {\n",
       "        text-align: right;\n",
       "    }\n",
       "</style>\n",
       "<table border=\"1\" class=\"dataframe\">\n",
       "  <thead>\n",
       "    <tr>\n",
       "      <th></th>\n",
       "      <th></th>\n",
       "      <th colspan=\"8\" halign=\"left\">price</th>\n",
       "      <th colspan=\"5\" halign=\"left\">min_dis</th>\n",
       "      <th colspan=\"8\" halign=\"left\">max_dis</th>\n",
       "    </tr>\n",
       "    <tr>\n",
       "      <th></th>\n",
       "      <th></th>\n",
       "      <th>count</th>\n",
       "      <th>mean</th>\n",
       "      <th>std</th>\n",
       "      <th>min</th>\n",
       "      <th>25%</th>\n",
       "      <th>50%</th>\n",
       "      <th>75%</th>\n",
       "      <th>max</th>\n",
       "      <th>count</th>\n",
       "      <th>mean</th>\n",
       "      <th>...</th>\n",
       "      <th>75%</th>\n",
       "      <th>max</th>\n",
       "      <th>count</th>\n",
       "      <th>mean</th>\n",
       "      <th>std</th>\n",
       "      <th>min</th>\n",
       "      <th>25%</th>\n",
       "      <th>50%</th>\n",
       "      <th>75%</th>\n",
       "      <th>max</th>\n",
       "    </tr>\n",
       "    <tr>\n",
       "      <th>feedback</th>\n",
       "      <th>author</th>\n",
       "      <th></th>\n",
       "      <th></th>\n",
       "      <th></th>\n",
       "      <th></th>\n",
       "      <th></th>\n",
       "      <th></th>\n",
       "      <th></th>\n",
       "      <th></th>\n",
       "      <th></th>\n",
       "      <th></th>\n",
       "      <th></th>\n",
       "      <th></th>\n",
       "      <th></th>\n",
       "      <th></th>\n",
       "      <th></th>\n",
       "      <th></th>\n",
       "      <th></th>\n",
       "      <th></th>\n",
       "      <th></th>\n",
       "      <th></th>\n",
       "      <th></th>\n",
       "    </tr>\n",
       "  </thead>\n",
       "  <tbody>\n",
       "    <tr>\n",
       "      <td rowspan=\"2\" valign=\"top\">average</td>\n",
       "      <td>Author2</td>\n",
       "      <td>5.0</td>\n",
       "      <td>260.000000</td>\n",
       "      <td>134.164079</td>\n",
       "      <td>200.0</td>\n",
       "      <td>200.0</td>\n",
       "      <td>200.0</td>\n",
       "      <td>200.0</td>\n",
       "      <td>500.0</td>\n",
       "      <td>5.0</td>\n",
       "      <td>0.280000</td>\n",
       "      <td>...</td>\n",
       "      <td>0.400</td>\n",
       "      <td>0.5</td>\n",
       "      <td>5.0</td>\n",
       "      <td>0.460000</td>\n",
       "      <td>0.065192</td>\n",
       "      <td>0.40</td>\n",
       "      <td>0.4000</td>\n",
       "      <td>0.450</td>\n",
       "      <td>0.5000</td>\n",
       "      <td>0.55</td>\n",
       "    </tr>\n",
       "    <tr>\n",
       "      <td>Author5</td>\n",
       "      <td>2.0</td>\n",
       "      <td>350.000000</td>\n",
       "      <td>212.132034</td>\n",
       "      <td>200.0</td>\n",
       "      <td>275.0</td>\n",
       "      <td>350.0</td>\n",
       "      <td>425.0</td>\n",
       "      <td>500.0</td>\n",
       "      <td>2.0</td>\n",
       "      <td>0.250000</td>\n",
       "      <td>...</td>\n",
       "      <td>0.275</td>\n",
       "      <td>0.3</td>\n",
       "      <td>2.0</td>\n",
       "      <td>0.375000</td>\n",
       "      <td>0.035355</td>\n",
       "      <td>0.35</td>\n",
       "      <td>0.3625</td>\n",
       "      <td>0.375</td>\n",
       "      <td>0.3875</td>\n",
       "      <td>0.40</td>\n",
       "    </tr>\n",
       "    <tr>\n",
       "      <td rowspan=\"4\" valign=\"top\">good</td>\n",
       "      <td>Author1</td>\n",
       "      <td>3.0</td>\n",
       "      <td>183.333333</td>\n",
       "      <td>189.296945</td>\n",
       "      <td>50.0</td>\n",
       "      <td>75.0</td>\n",
       "      <td>100.0</td>\n",
       "      <td>250.0</td>\n",
       "      <td>400.0</td>\n",
       "      <td>3.0</td>\n",
       "      <td>0.266667</td>\n",
       "      <td>...</td>\n",
       "      <td>0.300</td>\n",
       "      <td>0.3</td>\n",
       "      <td>3.0</td>\n",
       "      <td>0.383333</td>\n",
       "      <td>0.028868</td>\n",
       "      <td>0.35</td>\n",
       "      <td>0.3750</td>\n",
       "      <td>0.400</td>\n",
       "      <td>0.4000</td>\n",
       "      <td>0.40</td>\n",
       "    </tr>\n",
       "    <tr>\n",
       "      <td>Author3</td>\n",
       "      <td>6.0</td>\n",
       "      <td>400.000000</td>\n",
       "      <td>200.000000</td>\n",
       "      <td>200.0</td>\n",
       "      <td>300.0</td>\n",
       "      <td>300.0</td>\n",
       "      <td>525.0</td>\n",
       "      <td>700.0</td>\n",
       "      <td>6.0</td>\n",
       "      <td>0.141667</td>\n",
       "      <td>...</td>\n",
       "      <td>0.175</td>\n",
       "      <td>0.3</td>\n",
       "      <td>6.0</td>\n",
       "      <td>0.291667</td>\n",
       "      <td>0.102062</td>\n",
       "      <td>0.10</td>\n",
       "      <td>0.3000</td>\n",
       "      <td>0.300</td>\n",
       "      <td>0.3375</td>\n",
       "      <td>0.40</td>\n",
       "    </tr>\n",
       "    <tr>\n",
       "      <td>Author4</td>\n",
       "      <td>3.0</td>\n",
       "      <td>100.000000</td>\n",
       "      <td>0.000000</td>\n",
       "      <td>100.0</td>\n",
       "      <td>100.0</td>\n",
       "      <td>100.0</td>\n",
       "      <td>100.0</td>\n",
       "      <td>100.0</td>\n",
       "      <td>3.0</td>\n",
       "      <td>0.200000</td>\n",
       "      <td>...</td>\n",
       "      <td>0.250</td>\n",
       "      <td>0.3</td>\n",
       "      <td>3.0</td>\n",
       "      <td>0.383333</td>\n",
       "      <td>0.076376</td>\n",
       "      <td>0.30</td>\n",
       "      <td>0.3500</td>\n",
       "      <td>0.400</td>\n",
       "      <td>0.4250</td>\n",
       "      <td>0.45</td>\n",
       "    </tr>\n",
       "    <tr>\n",
       "      <td>Author6</td>\n",
       "      <td>1.0</td>\n",
       "      <td>300.000000</td>\n",
       "      <td>NaN</td>\n",
       "      <td>300.0</td>\n",
       "      <td>300.0</td>\n",
       "      <td>300.0</td>\n",
       "      <td>300.0</td>\n",
       "      <td>300.0</td>\n",
       "      <td>1.0</td>\n",
       "      <td>0.400000</td>\n",
       "      <td>...</td>\n",
       "      <td>0.400</td>\n",
       "      <td>0.4</td>\n",
       "      <td>1.0</td>\n",
       "      <td>0.500000</td>\n",
       "      <td>NaN</td>\n",
       "      <td>0.50</td>\n",
       "      <td>0.5000</td>\n",
       "      <td>0.500</td>\n",
       "      <td>0.5000</td>\n",
       "      <td>0.50</td>\n",
       "    </tr>\n",
       "  </tbody>\n",
       "</table>\n",
       "<p>6 rows × 24 columns</p>\n",
       "</div>"
      ],
      "text/plain": [
       "                 price                                                      \\\n",
       "                 count        mean         std    min    25%    50%    75%   \n",
       "feedback author                                                              \n",
       "average  Author2   5.0  260.000000  134.164079  200.0  200.0  200.0  200.0   \n",
       "         Author5   2.0  350.000000  212.132034  200.0  275.0  350.0  425.0   \n",
       "good     Author1   3.0  183.333333  189.296945   50.0   75.0  100.0  250.0   \n",
       "         Author3   6.0  400.000000  200.000000  200.0  300.0  300.0  525.0   \n",
       "         Author4   3.0  100.000000    0.000000  100.0  100.0  100.0  100.0   \n",
       "         Author6   1.0  300.000000         NaN  300.0  300.0  300.0  300.0   \n",
       "\n",
       "                        min_dis            ...             max_dis            \\\n",
       "                    max   count      mean  ...    75%  max   count      mean   \n",
       "feedback author                            ...                                 \n",
       "average  Author2  500.0     5.0  0.280000  ...  0.400  0.5     5.0  0.460000   \n",
       "         Author5  500.0     2.0  0.250000  ...  0.275  0.3     2.0  0.375000   \n",
       "good     Author1  400.0     3.0  0.266667  ...  0.300  0.3     3.0  0.383333   \n",
       "         Author3  700.0     6.0  0.141667  ...  0.175  0.3     6.0  0.291667   \n",
       "         Author4  100.0     3.0  0.200000  ...  0.250  0.3     3.0  0.383333   \n",
       "         Author6  300.0     1.0  0.400000  ...  0.400  0.4     1.0  0.500000   \n",
       "\n",
       "                                                               \n",
       "                       std   min     25%    50%     75%   max  \n",
       "feedback author                                                \n",
       "average  Author2  0.065192  0.40  0.4000  0.450  0.5000  0.55  \n",
       "         Author5  0.035355  0.35  0.3625  0.375  0.3875  0.40  \n",
       "good     Author1  0.028868  0.35  0.3750  0.400  0.4000  0.40  \n",
       "         Author3  0.102062  0.10  0.3000  0.300  0.3375  0.40  \n",
       "         Author4  0.076376  0.30  0.3500  0.400  0.4250  0.45  \n",
       "         Author6       NaN  0.50  0.5000  0.500  0.5000  0.50  \n",
       "\n",
       "[6 rows x 24 columns]"
      ]
     },
     "execution_count": 40,
     "metadata": {},
     "output_type": "execute_result"
    }
   ],
   "source": [
    "grouped.describe()"
   ]
  },
  {
   "cell_type": "code",
   "execution_count": null,
   "metadata": {},
   "outputs": [],
   "source": []
  },
  {
   "cell_type": "markdown",
   "metadata": {},
   "source": [
    "#### How To Aggregate Column-wise and with Multiple Functions?"
   ]
  },
  {
   "cell_type": "code",
   "execution_count": 41,
   "metadata": {},
   "outputs": [],
   "source": [
    "grouped = book.groupby(by=['feedback', 'author'])"
   ]
  },
  {
   "cell_type": "code",
   "execution_count": 42,
   "metadata": {},
   "outputs": [
    {
     "data": {
      "text/plain": [
       "feedback  author \n",
       "average   Author2    200\n",
       "          Author5    200\n",
       "good      Author1     50\n",
       "          Author3    200\n",
       "          Author4    100\n",
       "          Author6    300\n",
       "Name: price, dtype: int64"
      ]
     },
     "execution_count": 42,
     "metadata": {},
     "output_type": "execute_result"
    }
   ],
   "source": [
    "grouped['price'].agg('min')"
   ]
  },
  {
   "cell_type": "code",
   "execution_count": 43,
   "metadata": {},
   "outputs": [
    {
     "data": {
      "text/plain": [
       "feedback  author \n",
       "average   Author2    500\n",
       "          Author5    500\n",
       "good      Author1    400\n",
       "          Author3    700\n",
       "          Author4    100\n",
       "          Author6    300\n",
       "Name: price, dtype: int64"
      ]
     },
     "execution_count": 43,
     "metadata": {},
     "output_type": "execute_result"
    }
   ],
   "source": [
    "grouped['price'].agg('max')"
   ]
  },
  {
   "cell_type": "code",
   "execution_count": 44,
   "metadata": {},
   "outputs": [
    {
     "data": {
      "text/plain": [
       "feedback  author \n",
       "average   Author2    260.000000\n",
       "          Author5    350.000000\n",
       "good      Author1    183.333333\n",
       "          Author3    400.000000\n",
       "          Author4    100.000000\n",
       "          Author6    300.000000\n",
       "Name: price, dtype: float64"
      ]
     },
     "execution_count": 44,
     "metadata": {},
     "output_type": "execute_result"
    }
   ],
   "source": [
    "grouped['price'].agg('mean')"
   ]
  },
  {
   "cell_type": "code",
   "execution_count": 45,
   "metadata": {},
   "outputs": [
    {
     "data": {
      "text/html": [
       "<div>\n",
       "<style scoped>\n",
       "    .dataframe tbody tr th:only-of-type {\n",
       "        vertical-align: middle;\n",
       "    }\n",
       "\n",
       "    .dataframe tbody tr th {\n",
       "        vertical-align: top;\n",
       "    }\n",
       "\n",
       "    .dataframe thead th {\n",
       "        text-align: right;\n",
       "    }\n",
       "</style>\n",
       "<table border=\"1\" class=\"dataframe\">\n",
       "  <thead>\n",
       "    <tr style=\"text-align: right;\">\n",
       "      <th></th>\n",
       "      <th></th>\n",
       "      <th>min</th>\n",
       "      <th>max</th>\n",
       "      <th>mean</th>\n",
       "      <th>std</th>\n",
       "    </tr>\n",
       "    <tr>\n",
       "      <th>feedback</th>\n",
       "      <th>author</th>\n",
       "      <th></th>\n",
       "      <th></th>\n",
       "      <th></th>\n",
       "      <th></th>\n",
       "    </tr>\n",
       "  </thead>\n",
       "  <tbody>\n",
       "    <tr>\n",
       "      <td rowspan=\"2\" valign=\"top\">average</td>\n",
       "      <td>Author2</td>\n",
       "      <td>200</td>\n",
       "      <td>500</td>\n",
       "      <td>260.000000</td>\n",
       "      <td>134.164079</td>\n",
       "    </tr>\n",
       "    <tr>\n",
       "      <td>Author5</td>\n",
       "      <td>200</td>\n",
       "      <td>500</td>\n",
       "      <td>350.000000</td>\n",
       "      <td>212.132034</td>\n",
       "    </tr>\n",
       "    <tr>\n",
       "      <td rowspan=\"4\" valign=\"top\">good</td>\n",
       "      <td>Author1</td>\n",
       "      <td>50</td>\n",
       "      <td>400</td>\n",
       "      <td>183.333333</td>\n",
       "      <td>189.296945</td>\n",
       "    </tr>\n",
       "    <tr>\n",
       "      <td>Author3</td>\n",
       "      <td>200</td>\n",
       "      <td>700</td>\n",
       "      <td>400.000000</td>\n",
       "      <td>200.000000</td>\n",
       "    </tr>\n",
       "    <tr>\n",
       "      <td>Author4</td>\n",
       "      <td>100</td>\n",
       "      <td>100</td>\n",
       "      <td>100.000000</td>\n",
       "      <td>0.000000</td>\n",
       "    </tr>\n",
       "    <tr>\n",
       "      <td>Author6</td>\n",
       "      <td>300</td>\n",
       "      <td>300</td>\n",
       "      <td>300.000000</td>\n",
       "      <td>NaN</td>\n",
       "    </tr>\n",
       "  </tbody>\n",
       "</table>\n",
       "</div>"
      ],
      "text/plain": [
       "                  min  max        mean         std\n",
       "feedback author                                   \n",
       "average  Author2  200  500  260.000000  134.164079\n",
       "         Author5  200  500  350.000000  212.132034\n",
       "good     Author1   50  400  183.333333  189.296945\n",
       "         Author3  200  700  400.000000  200.000000\n",
       "         Author4  100  100  100.000000    0.000000\n",
       "         Author6  300  300  300.000000         NaN"
      ]
     },
     "execution_count": 45,
     "metadata": {},
     "output_type": "execute_result"
    }
   ],
   "source": [
    "grouped['price'].agg(['min', 'max', 'mean', 'std'])"
   ]
  },
  {
   "cell_type": "code",
   "execution_count": 46,
   "metadata": {},
   "outputs": [
    {
     "data": {
      "text/html": [
       "<div>\n",
       "<style scoped>\n",
       "    .dataframe tbody tr th:only-of-type {\n",
       "        vertical-align: middle;\n",
       "    }\n",
       "\n",
       "    .dataframe tbody tr th {\n",
       "        vertical-align: top;\n",
       "    }\n",
       "\n",
       "    .dataframe thead th {\n",
       "        text-align: right;\n",
       "    }\n",
       "</style>\n",
       "<table border=\"1\" class=\"dataframe\">\n",
       "  <thead>\n",
       "    <tr style=\"text-align: right;\">\n",
       "      <th></th>\n",
       "      <th></th>\n",
       "      <th>min_value</th>\n",
       "      <th>max_value</th>\n",
       "      <th>mean</th>\n",
       "      <th>std</th>\n",
       "    </tr>\n",
       "    <tr>\n",
       "      <th>feedback</th>\n",
       "      <th>author</th>\n",
       "      <th></th>\n",
       "      <th></th>\n",
       "      <th></th>\n",
       "      <th></th>\n",
       "    </tr>\n",
       "  </thead>\n",
       "  <tbody>\n",
       "    <tr>\n",
       "      <td rowspan=\"2\" valign=\"top\">average</td>\n",
       "      <td>Author2</td>\n",
       "      <td>200</td>\n",
       "      <td>500</td>\n",
       "      <td>260.000000</td>\n",
       "      <td>134.164079</td>\n",
       "    </tr>\n",
       "    <tr>\n",
       "      <td>Author5</td>\n",
       "      <td>200</td>\n",
       "      <td>500</td>\n",
       "      <td>350.000000</td>\n",
       "      <td>212.132034</td>\n",
       "    </tr>\n",
       "    <tr>\n",
       "      <td rowspan=\"4\" valign=\"top\">good</td>\n",
       "      <td>Author1</td>\n",
       "      <td>50</td>\n",
       "      <td>400</td>\n",
       "      <td>183.333333</td>\n",
       "      <td>189.296945</td>\n",
       "    </tr>\n",
       "    <tr>\n",
       "      <td>Author3</td>\n",
       "      <td>200</td>\n",
       "      <td>700</td>\n",
       "      <td>400.000000</td>\n",
       "      <td>200.000000</td>\n",
       "    </tr>\n",
       "    <tr>\n",
       "      <td>Author4</td>\n",
       "      <td>100</td>\n",
       "      <td>100</td>\n",
       "      <td>100.000000</td>\n",
       "      <td>0.000000</td>\n",
       "    </tr>\n",
       "    <tr>\n",
       "      <td>Author6</td>\n",
       "      <td>300</td>\n",
       "      <td>300</td>\n",
       "      <td>300.000000</td>\n",
       "      <td>NaN</td>\n",
       "    </tr>\n",
       "  </tbody>\n",
       "</table>\n",
       "</div>"
      ],
      "text/plain": [
       "                  min_value  max_value        mean         std\n",
       "feedback author                                               \n",
       "average  Author2        200        500  260.000000  134.164079\n",
       "         Author5        200        500  350.000000  212.132034\n",
       "good     Author1         50        400  183.333333  189.296945\n",
       "         Author3        200        700  400.000000  200.000000\n",
       "         Author4        100        100  100.000000    0.000000\n",
       "         Author6        300        300  300.000000         NaN"
      ]
     },
     "execution_count": 46,
     "metadata": {},
     "output_type": "execute_result"
    }
   ],
   "source": [
    "grouped['price'].agg([('min_value', 'min'), ('max_value', 'max'), 'mean', 'std'])"
   ]
  },
  {
   "cell_type": "code",
   "execution_count": 48,
   "metadata": {},
   "outputs": [
    {
     "data": {
      "text/html": [
       "<div>\n",
       "<style scoped>\n",
       "    .dataframe tbody tr th:only-of-type {\n",
       "        vertical-align: middle;\n",
       "    }\n",
       "\n",
       "    .dataframe tbody tr th {\n",
       "        vertical-align: top;\n",
       "    }\n",
       "\n",
       "    .dataframe thead tr th {\n",
       "        text-align: left;\n",
       "    }\n",
       "\n",
       "    .dataframe thead tr:last-of-type th {\n",
       "        text-align: right;\n",
       "    }\n",
       "</style>\n",
       "<table border=\"1\" class=\"dataframe\">\n",
       "  <thead>\n",
       "    <tr>\n",
       "      <th></th>\n",
       "      <th></th>\n",
       "      <th colspan=\"4\" halign=\"left\">price</th>\n",
       "      <th colspan=\"4\" halign=\"left\">max_dis</th>\n",
       "    </tr>\n",
       "    <tr>\n",
       "      <th></th>\n",
       "      <th></th>\n",
       "      <th>min_value</th>\n",
       "      <th>max_value</th>\n",
       "      <th>mean</th>\n",
       "      <th>std</th>\n",
       "      <th>min_value</th>\n",
       "      <th>max_value</th>\n",
       "      <th>mean</th>\n",
       "      <th>std</th>\n",
       "    </tr>\n",
       "    <tr>\n",
       "      <th>feedback</th>\n",
       "      <th>author</th>\n",
       "      <th></th>\n",
       "      <th></th>\n",
       "      <th></th>\n",
       "      <th></th>\n",
       "      <th></th>\n",
       "      <th></th>\n",
       "      <th></th>\n",
       "      <th></th>\n",
       "    </tr>\n",
       "  </thead>\n",
       "  <tbody>\n",
       "    <tr>\n",
       "      <td rowspan=\"2\" valign=\"top\">average</td>\n",
       "      <td>Author2</td>\n",
       "      <td>200</td>\n",
       "      <td>500</td>\n",
       "      <td>260.000000</td>\n",
       "      <td>134.164079</td>\n",
       "      <td>0.40</td>\n",
       "      <td>0.55</td>\n",
       "      <td>0.460000</td>\n",
       "      <td>0.065192</td>\n",
       "    </tr>\n",
       "    <tr>\n",
       "      <td>Author5</td>\n",
       "      <td>200</td>\n",
       "      <td>500</td>\n",
       "      <td>350.000000</td>\n",
       "      <td>212.132034</td>\n",
       "      <td>0.35</td>\n",
       "      <td>0.40</td>\n",
       "      <td>0.375000</td>\n",
       "      <td>0.035355</td>\n",
       "    </tr>\n",
       "    <tr>\n",
       "      <td rowspan=\"4\" valign=\"top\">good</td>\n",
       "      <td>Author1</td>\n",
       "      <td>50</td>\n",
       "      <td>400</td>\n",
       "      <td>183.333333</td>\n",
       "      <td>189.296945</td>\n",
       "      <td>0.35</td>\n",
       "      <td>0.40</td>\n",
       "      <td>0.383333</td>\n",
       "      <td>0.028868</td>\n",
       "    </tr>\n",
       "    <tr>\n",
       "      <td>Author3</td>\n",
       "      <td>200</td>\n",
       "      <td>700</td>\n",
       "      <td>400.000000</td>\n",
       "      <td>200.000000</td>\n",
       "      <td>0.10</td>\n",
       "      <td>0.40</td>\n",
       "      <td>0.291667</td>\n",
       "      <td>0.102062</td>\n",
       "    </tr>\n",
       "    <tr>\n",
       "      <td>Author4</td>\n",
       "      <td>100</td>\n",
       "      <td>100</td>\n",
       "      <td>100.000000</td>\n",
       "      <td>0.000000</td>\n",
       "      <td>0.30</td>\n",
       "      <td>0.45</td>\n",
       "      <td>0.383333</td>\n",
       "      <td>0.076376</td>\n",
       "    </tr>\n",
       "    <tr>\n",
       "      <td>Author6</td>\n",
       "      <td>300</td>\n",
       "      <td>300</td>\n",
       "      <td>300.000000</td>\n",
       "      <td>NaN</td>\n",
       "      <td>0.50</td>\n",
       "      <td>0.50</td>\n",
       "      <td>0.500000</td>\n",
       "      <td>NaN</td>\n",
       "    </tr>\n",
       "  </tbody>\n",
       "</table>\n",
       "</div>"
      ],
      "text/plain": [
       "                     price                                     max_dis  \\\n",
       "                 min_value max_value        mean         std min_value   \n",
       "feedback author                                                          \n",
       "average  Author2       200       500  260.000000  134.164079      0.40   \n",
       "         Author5       200       500  350.000000  212.132034      0.35   \n",
       "good     Author1        50       400  183.333333  189.296945      0.35   \n",
       "         Author3       200       700  400.000000  200.000000      0.10   \n",
       "         Author4       100       100  100.000000    0.000000      0.30   \n",
       "         Author6       300       300  300.000000         NaN      0.50   \n",
       "\n",
       "                                                \n",
       "                 max_value      mean       std  \n",
       "feedback author                                 \n",
       "average  Author2      0.55  0.460000  0.065192  \n",
       "         Author5      0.40  0.375000  0.035355  \n",
       "good     Author1      0.40  0.383333  0.028868  \n",
       "         Author3      0.40  0.291667  0.102062  \n",
       "         Author4      0.45  0.383333  0.076376  \n",
       "         Author6      0.50  0.500000       NaN  "
      ]
     },
     "execution_count": 48,
     "metadata": {},
     "output_type": "execute_result"
    }
   ],
   "source": [
    "functions = [('min_value', 'min'), ('max_value', 'max'), 'mean', 'std']\n",
    "result = grouped['price', 'max_dis'].agg(functions)\n",
    "result"
   ]
  },
  {
   "cell_type": "code",
   "execution_count": 49,
   "metadata": {},
   "outputs": [
    {
     "data": {
      "text/html": [
       "<div>\n",
       "<style scoped>\n",
       "    .dataframe tbody tr th:only-of-type {\n",
       "        vertical-align: middle;\n",
       "    }\n",
       "\n",
       "    .dataframe tbody tr th {\n",
       "        vertical-align: top;\n",
       "    }\n",
       "\n",
       "    .dataframe thead th {\n",
       "        text-align: right;\n",
       "    }\n",
       "</style>\n",
       "<table border=\"1\" class=\"dataframe\">\n",
       "  <thead>\n",
       "    <tr style=\"text-align: right;\">\n",
       "      <th></th>\n",
       "      <th></th>\n",
       "      <th>min_value</th>\n",
       "      <th>max_value</th>\n",
       "      <th>mean</th>\n",
       "      <th>std</th>\n",
       "    </tr>\n",
       "    <tr>\n",
       "      <th>feedback</th>\n",
       "      <th>author</th>\n",
       "      <th></th>\n",
       "      <th></th>\n",
       "      <th></th>\n",
       "      <th></th>\n",
       "    </tr>\n",
       "  </thead>\n",
       "  <tbody>\n",
       "    <tr>\n",
       "      <td rowspan=\"2\" valign=\"top\">average</td>\n",
       "      <td>Author2</td>\n",
       "      <td>200</td>\n",
       "      <td>500</td>\n",
       "      <td>260.000000</td>\n",
       "      <td>134.164079</td>\n",
       "    </tr>\n",
       "    <tr>\n",
       "      <td>Author5</td>\n",
       "      <td>200</td>\n",
       "      <td>500</td>\n",
       "      <td>350.000000</td>\n",
       "      <td>212.132034</td>\n",
       "    </tr>\n",
       "    <tr>\n",
       "      <td rowspan=\"4\" valign=\"top\">good</td>\n",
       "      <td>Author1</td>\n",
       "      <td>50</td>\n",
       "      <td>400</td>\n",
       "      <td>183.333333</td>\n",
       "      <td>189.296945</td>\n",
       "    </tr>\n",
       "    <tr>\n",
       "      <td>Author3</td>\n",
       "      <td>200</td>\n",
       "      <td>700</td>\n",
       "      <td>400.000000</td>\n",
       "      <td>200.000000</td>\n",
       "    </tr>\n",
       "    <tr>\n",
       "      <td>Author4</td>\n",
       "      <td>100</td>\n",
       "      <td>100</td>\n",
       "      <td>100.000000</td>\n",
       "      <td>0.000000</td>\n",
       "    </tr>\n",
       "    <tr>\n",
       "      <td>Author6</td>\n",
       "      <td>300</td>\n",
       "      <td>300</td>\n",
       "      <td>300.000000</td>\n",
       "      <td>NaN</td>\n",
       "    </tr>\n",
       "  </tbody>\n",
       "</table>\n",
       "</div>"
      ],
      "text/plain": [
       "                  min_value  max_value        mean         std\n",
       "feedback author                                               \n",
       "average  Author2        200        500  260.000000  134.164079\n",
       "         Author5        200        500  350.000000  212.132034\n",
       "good     Author1         50        400  183.333333  189.296945\n",
       "         Author3        200        700  400.000000  200.000000\n",
       "         Author4        100        100  100.000000    0.000000\n",
       "         Author6        300        300  300.000000         NaN"
      ]
     },
     "execution_count": 49,
     "metadata": {},
     "output_type": "execute_result"
    }
   ],
   "source": [
    "result['price']"
   ]
  },
  {
   "cell_type": "code",
   "execution_count": 50,
   "metadata": {},
   "outputs": [
    {
     "data": {
      "text/html": [
       "<div>\n",
       "<style scoped>\n",
       "    .dataframe tbody tr th:only-of-type {\n",
       "        vertical-align: middle;\n",
       "    }\n",
       "\n",
       "    .dataframe tbody tr th {\n",
       "        vertical-align: top;\n",
       "    }\n",
       "\n",
       "    .dataframe thead tr th {\n",
       "        text-align: left;\n",
       "    }\n",
       "\n",
       "    .dataframe thead tr:last-of-type th {\n",
       "        text-align: right;\n",
       "    }\n",
       "</style>\n",
       "<table border=\"1\" class=\"dataframe\">\n",
       "  <thead>\n",
       "    <tr>\n",
       "      <th></th>\n",
       "      <th></th>\n",
       "      <th colspan=\"2\" halign=\"left\">min_value</th>\n",
       "      <th colspan=\"2\" halign=\"left\">max_value</th>\n",
       "      <th colspan=\"2\" halign=\"left\">mean_value</th>\n",
       "      <th colspan=\"2\" halign=\"left\">std_value</th>\n",
       "    </tr>\n",
       "    <tr>\n",
       "      <th></th>\n",
       "      <th></th>\n",
       "      <th>price</th>\n",
       "      <th>max_dis</th>\n",
       "      <th>price</th>\n",
       "      <th>max_dis</th>\n",
       "      <th>price</th>\n",
       "      <th>max_dis</th>\n",
       "      <th>price</th>\n",
       "      <th>max_dis</th>\n",
       "    </tr>\n",
       "    <tr>\n",
       "      <th>feedback</th>\n",
       "      <th>author</th>\n",
       "      <th></th>\n",
       "      <th></th>\n",
       "      <th></th>\n",
       "      <th></th>\n",
       "      <th></th>\n",
       "      <th></th>\n",
       "      <th></th>\n",
       "      <th></th>\n",
       "    </tr>\n",
       "  </thead>\n",
       "  <tbody>\n",
       "    <tr>\n",
       "      <td rowspan=\"2\" valign=\"top\">average</td>\n",
       "      <td>Author2</td>\n",
       "      <td>200</td>\n",
       "      <td>0.40</td>\n",
       "      <td>500</td>\n",
       "      <td>0.55</td>\n",
       "      <td>260.000000</td>\n",
       "      <td>0.460000</td>\n",
       "      <td>134.164079</td>\n",
       "      <td>0.065192</td>\n",
       "    </tr>\n",
       "    <tr>\n",
       "      <td>Author5</td>\n",
       "      <td>200</td>\n",
       "      <td>0.35</td>\n",
       "      <td>500</td>\n",
       "      <td>0.40</td>\n",
       "      <td>350.000000</td>\n",
       "      <td>0.375000</td>\n",
       "      <td>212.132034</td>\n",
       "      <td>0.035355</td>\n",
       "    </tr>\n",
       "    <tr>\n",
       "      <td rowspan=\"4\" valign=\"top\">good</td>\n",
       "      <td>Author1</td>\n",
       "      <td>50</td>\n",
       "      <td>0.35</td>\n",
       "      <td>400</td>\n",
       "      <td>0.40</td>\n",
       "      <td>183.333333</td>\n",
       "      <td>0.383333</td>\n",
       "      <td>189.296945</td>\n",
       "      <td>0.028868</td>\n",
       "    </tr>\n",
       "    <tr>\n",
       "      <td>Author3</td>\n",
       "      <td>200</td>\n",
       "      <td>0.10</td>\n",
       "      <td>700</td>\n",
       "      <td>0.40</td>\n",
       "      <td>400.000000</td>\n",
       "      <td>0.291667</td>\n",
       "      <td>200.000000</td>\n",
       "      <td>0.102062</td>\n",
       "    </tr>\n",
       "    <tr>\n",
       "      <td>Author4</td>\n",
       "      <td>100</td>\n",
       "      <td>0.30</td>\n",
       "      <td>100</td>\n",
       "      <td>0.45</td>\n",
       "      <td>100.000000</td>\n",
       "      <td>0.383333</td>\n",
       "      <td>0.000000</td>\n",
       "      <td>0.076376</td>\n",
       "    </tr>\n",
       "    <tr>\n",
       "      <td>Author6</td>\n",
       "      <td>300</td>\n",
       "      <td>0.50</td>\n",
       "      <td>300</td>\n",
       "      <td>0.50</td>\n",
       "      <td>300.000000</td>\n",
       "      <td>0.500000</td>\n",
       "      <td>NaN</td>\n",
       "      <td>NaN</td>\n",
       "    </tr>\n",
       "  </tbody>\n",
       "</table>\n",
       "</div>"
      ],
      "text/plain": [
       "                 min_value         max_value          mean_value            \\\n",
       "                     price max_dis     price max_dis       price   max_dis   \n",
       "feedback author                                                              \n",
       "average  Author2       200    0.40       500    0.55  260.000000  0.460000   \n",
       "         Author5       200    0.35       500    0.40  350.000000  0.375000   \n",
       "good     Author1        50    0.35       400    0.40  183.333333  0.383333   \n",
       "         Author3       200    0.10       700    0.40  400.000000  0.291667   \n",
       "         Author4       100    0.30       100    0.45  100.000000  0.383333   \n",
       "         Author6       300    0.50       300    0.50  300.000000  0.500000   \n",
       "\n",
       "                   std_value            \n",
       "                       price   max_dis  \n",
       "feedback author                         \n",
       "average  Author2  134.164079  0.065192  \n",
       "         Author5  212.132034  0.035355  \n",
       "good     Author1  189.296945  0.028868  \n",
       "         Author3  200.000000  0.102062  \n",
       "         Author4    0.000000  0.076376  \n",
       "         Author6         NaN       NaN  "
      ]
     },
     "execution_count": 50,
     "metadata": {},
     "output_type": "execute_result"
    }
   ],
   "source": [
    "functions = {'min_value': 'min', 'max_value':'max', 'mean_value':'mean', 'std_value':'std'}\n",
    "result = grouped['price', 'max_dis'].agg(functions)\n",
    "result"
   ]
  },
  {
   "cell_type": "code",
   "execution_count": 51,
   "metadata": {},
   "outputs": [
    {
     "data": {
      "text/html": [
       "<div>\n",
       "<style scoped>\n",
       "    .dataframe tbody tr th:only-of-type {\n",
       "        vertical-align: middle;\n",
       "    }\n",
       "\n",
       "    .dataframe tbody tr th {\n",
       "        vertical-align: top;\n",
       "    }\n",
       "\n",
       "    .dataframe thead th {\n",
       "        text-align: right;\n",
       "    }\n",
       "</style>\n",
       "<table border=\"1\" class=\"dataframe\">\n",
       "  <thead>\n",
       "    <tr style=\"text-align: right;\">\n",
       "      <th></th>\n",
       "      <th>feedback</th>\n",
       "      <th>author</th>\n",
       "      <th>book_name</th>\n",
       "      <th>price</th>\n",
       "      <th>min_dis</th>\n",
       "      <th>max_dis</th>\n",
       "    </tr>\n",
       "  </thead>\n",
       "  <tbody>\n",
       "    <tr>\n",
       "      <td>0</td>\n",
       "      <td>average</td>\n",
       "      <td>Author2</td>\n",
       "      <td>AAB</td>\n",
       "      <td>200</td>\n",
       "      <td>0.10</td>\n",
       "      <td>0.40</td>\n",
       "    </tr>\n",
       "    <tr>\n",
       "      <td>1</td>\n",
       "      <td>average</td>\n",
       "      <td>Author5</td>\n",
       "      <td>AAE</td>\n",
       "      <td>200</td>\n",
       "      <td>0.20</td>\n",
       "      <td>0.35</td>\n",
       "    </tr>\n",
       "    <tr>\n",
       "      <td>2</td>\n",
       "      <td>good</td>\n",
       "      <td>Author1</td>\n",
       "      <td>AAA</td>\n",
       "      <td>50</td>\n",
       "      <td>0.20</td>\n",
       "      <td>0.35</td>\n",
       "    </tr>\n",
       "    <tr>\n",
       "      <td>3</td>\n",
       "      <td>good</td>\n",
       "      <td>Author3</td>\n",
       "      <td>AAC</td>\n",
       "      <td>200</td>\n",
       "      <td>0.05</td>\n",
       "      <td>0.10</td>\n",
       "    </tr>\n",
       "    <tr>\n",
       "      <td>4</td>\n",
       "      <td>good</td>\n",
       "      <td>Author4</td>\n",
       "      <td>AAD</td>\n",
       "      <td>100</td>\n",
       "      <td>0.10</td>\n",
       "      <td>0.30</td>\n",
       "    </tr>\n",
       "    <tr>\n",
       "      <td>5</td>\n",
       "      <td>good</td>\n",
       "      <td>Author6</td>\n",
       "      <td>AAL</td>\n",
       "      <td>300</td>\n",
       "      <td>0.40</td>\n",
       "      <td>0.50</td>\n",
       "    </tr>\n",
       "  </tbody>\n",
       "</table>\n",
       "</div>"
      ],
      "text/plain": [
       "  feedback   author book_name  price  min_dis  max_dis\n",
       "0  average  Author2       AAB    200     0.10     0.40\n",
       "1  average  Author5       AAE    200     0.20     0.35\n",
       "2     good  Author1       AAA     50     0.20     0.35\n",
       "3     good  Author3       AAC    200     0.05     0.10\n",
       "4     good  Author4       AAD    100     0.10     0.30\n",
       "5     good  Author6       AAL    300     0.40     0.50"
      ]
     },
     "execution_count": 51,
     "metadata": {},
     "output_type": "execute_result"
    }
   ],
   "source": [
    "grouped = book.groupby(by=['feedback', 'author'], as_index=False).min()\n",
    "grouped"
   ]
  },
  {
   "cell_type": "code",
   "execution_count": null,
   "metadata": {},
   "outputs": [],
   "source": []
  },
  {
   "cell_type": "code",
   "execution_count": null,
   "metadata": {},
   "outputs": [],
   "source": []
  }
 ],
 "metadata": {
  "kernelspec": {
   "display_name": "Python 3",
   "language": "python",
   "name": "python3"
  },
  "language_info": {
   "codemirror_mode": {
    "name": "ipython",
    "version": 3
   },
   "file_extension": ".py",
   "mimetype": "text/x-python",
   "name": "python",
   "nbconvert_exporter": "python",
   "pygments_lexer": "ipython3",
   "version": "3.7.4"
  }
 },
 "nbformat": 4,
 "nbformat_minor": 2
}
